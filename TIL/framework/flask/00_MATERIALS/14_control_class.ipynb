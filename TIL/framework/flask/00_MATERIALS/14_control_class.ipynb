{
 "cells": [
  {
   "cell_type": "markdown",
   "metadata": {},
   "source": [
    "### MVC 패턴중 Control 기능 구현을 위해 클래스를 사용\n",
    "- 클래스명.함수 형태로 코드 작성이 가능하여, 코드만 보더라도 어떤 코드인지 알 수 있고, 함수별 구분이 가능함\n",
    "- 클래스내에 유사한 기능을 넣어서 기능별로 구현 및 유지보수가 유리함"
   ]
  },
  {
   "cell_type": "markdown",
   "metadata": {},
   "source": [
    "### 사용자(email) 클래스"
   ]
  },
  {
   "cell_type": "markdown",
   "metadata": {},
   "source": [
    "### mysql schema\n",
    "```sql\n",
    "CREATE TABLE user_info (\n",
    "    USER_ID INT UNSIGNED NOT NULL AUTO_INCREMENT,\n",
    "    USER_EMAIL VARCHAR(100) NOT NULL,\n",
    "    BLOG_ID CHAR(4),\n",
    "    PRIMARY KEY(USER_ID)\n",
    ");\n",
    "```"
   ]
  },
  {
   "cell_type": "markdown",
   "metadata": {},
   "source": [
    "```python\n",
    "class User(UserMixin):\n",
    "\n",
    "    def __init__(self, user_id, user_email, blog_id):\n",
    "        self.id = user_id\n",
    "        self.user_email = user_email\n",
    "        self.blog_id = blog_id\n",
    "\n",
    "    def get_id(self):\n",
    "        return str(self.id)\n",
    "\n",
    "    @staticmethod\n",
    "    def get(user_id):\n",
    "        mysql_db = conn_mysqldb()\n",
    "        db_cursor = mysql_db.cursor()\n",
    "        sql = \"SELECT * FROM user_info WHERE USER_ID = '\" + \\\n",
    "            str(user_id) + \"'\"\n",
    "        db_cursor.execute(sql)\n",
    "        user = db_cursor.fetchone()\n",
    "        if not user:\n",
    "            db_cursor.close()\n",
    "            return None\n",
    "\n",
    "        print(user)\n",
    "        user = User(user_id=user[0], user_email=user[1], blog_id=user[2])\n",
    "        db_cursor.close()\n",
    "        return user\n",
    "\n",
    "    @staticmethod\n",
    "    def find(user_email):\n",
    "        mysql_db = conn_mysqldb()\n",
    "        db_cursor = mysql_db.cursor()\n",
    "        sql = \"SELECT * FROM user_info WHERE USER_EMAIL = '\" + \\\n",
    "            str(user_email) + \"'\"\n",
    "        db_cursor.execute(sql)\n",
    "        user = db_cursor.fetchone()\n",
    "        if not user:\n",
    "            db_cursor.close()\n",
    "            return None\n",
    "\n",
    "        print(user)\n",
    "        user = User(user_id=user[0], user_email=user[1], blog_id=user[2])\n",
    "        db_cursor.close()\n",
    "        return user\n",
    "\n",
    "    @staticmethod\n",
    "    def create(user_email, blog_id):\n",
    "        user = User.find(user_email)\n",
    "        if user == None:\n",
    "            mysql_db = conn_mysqldb()\n",
    "            db_cursor = mysql_db.cursor()\n",
    "            sql = \"INSERT INTO user_info (USER_EMAIL, BLOG_ID) VALUES ('%s', '%s')\" % (\n",
    "                str(user_email), str(blog_id))\n",
    "            db_cursor.execute(sql)\n",
    "            mysql_db.commit()\n",
    "            return User.find(user_email)\n",
    "        else:\n",
    "            return user\n",
    "\n",
    "```"
   ]
  },
  {
   "cell_type": "markdown",
   "metadata": {},
   "source": [
    "### blog 세션 관리 클래스"
   ]
  },
  {
   "cell_type": "markdown",
   "metadata": {},
   "source": [
    "```python\n",
    "class BlogSession():\n",
    "    blog_page = {'A': 'blog_A.html', 'B': 'blog_B.html'}\n",
    "    session_count = 0\n",
    "\n",
    "    @staticmethod\n",
    "    def save_session_info(session_ip, user_email, webpage_name):\n",
    "        now = datetime.now()\n",
    "        now_time = now.strftime(\"%d/%m/%Y %H:%M:%S\")\n",
    "\n",
    "        mongo_db = conn_mongodb()\n",
    "        mongo_db.insert_one({'session_ip': session_ip,\n",
    "                             'user_email': user_email,\n",
    "                             'page': webpage_name,\n",
    "                             'access_time': now_time})\n",
    "\n",
    "    @staticmethod\n",
    "    def get_blog_page(force=None):\n",
    "        print(force)\n",
    "        if force == None:\n",
    "            if BlogSession.session_count == 0:\n",
    "                BlogSession.session_count = 1\n",
    "                return 'blog_A.html'\n",
    "            else:\n",
    "                BlogSession.session_count = 0\n",
    "                return 'blog_B.html'\n",
    "        else:\n",
    "            return BlogSession.blog_page[force]\n",
    "```"
   ]
  }
 ],
 "metadata": {
  "kernelspec": {
   "display_name": "Python 3",
   "language": "python",
   "name": "python3"
  },
  "language_info": {
   "codemirror_mode": {
    "name": "ipython",
    "version": 3
   },
   "file_extension": ".py",
   "mimetype": "text/x-python",
   "name": "python",
   "nbconvert_exporter": "python",
   "pygments_lexer": "ipython3",
   "version": "3.7.7"
  }
 },
 "nbformat": 4,
 "nbformat_minor": 4
}
