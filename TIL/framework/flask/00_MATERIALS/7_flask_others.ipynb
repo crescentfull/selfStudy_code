{
 "cells": [
  {
   "cell_type": "markdown",
   "metadata": {},
   "source": [
    "## 6. flask 다양한 기능"
   ]
  },
  {
   "cell_type": "markdown",
   "metadata": {},
   "source": [
    "### 6.1. 에러(error) 다루기"
   ]
  },
  {
   "cell_type": "markdown",
   "metadata": {},
   "source": [
    "* errorhandler를 사용하여 HTTP 오류 코드가 나오는 페이지를 정의할 수 있음\n",
    "  - return 의 두번째 인자로 에러코드를 넘겨주지 않으면 200 성공으로 인지함\n",
    "  \n",
    "> HTTP 응답코드와 프로토콜에 대해서는 별도 챕터에서 설명"
   ]
  },
  {
   "cell_type": "code",
   "execution_count": null,
   "metadata": {
    "collapsed": true
   },
   "outputs": [],
   "source": [
    "@app.errorhandler(404)  # 없는 페이지를 요청했을 때의 에러\n",
    "def page_not_found(error):\n",
    "    return \"<h1>404 Error</h1>\", 404"
   ]
  },
  {
   "cell_type": "code",
   "execution_count": null,
   "metadata": {},
   "outputs": [
    {
     "name": "stderr",
     "output_type": "stream",
     "text": [
      " * Running on http://0.0.0.0:8080/ (Press CTRL+C to quit)\n",
      "127.0.0.1 - - [04/Apr/2018 21:59:09] \"GET / HTTP/1.1\" 404 -\n"
     ]
    }
   ],
   "source": [
    "from flask import Flask \n",
    "import requests\n",
    "\n",
    "app = Flask(__name__)   \n",
    "\n",
    "@app.errorhandler(404)\n",
    "def page_not_found(error):\n",
    "    return \"<h1>404 Error</h1>\", 404\n",
    "\n",
    "@app.route(\"/google\")\n",
    "def get_google():\n",
    "    response = requests.get(\"http://www.google.co.kr\")\n",
    "    return response.text \n",
    "\n",
    "if __name__ == \"__main__\":\n",
    "    app.run(host=\"0.0.0.0\", port=\"8080\")"
   ]
  },
  {
   "cell_type": "markdown",
   "metadata": {},
   "source": [
    "### 6.2. 로깅(logging) 다루기\n",
    "- 서버는 24시간 동작하므로, 문제가 있을 때, 어떤 문제가 있었는지, 파악하기 위해 로깅 기능을 사용함\n",
    "- 사용자 모니터링, 해킹 확인등 다양한 상용화시 문제에 대해서도 로깅 기능을 활용할 수 있음\n",
    "\n",
    "> 로깅은 개발 단계에서는 크게 필요하지 않으므로, 가볍게 참고로만 알아둠 <br>\n",
    "> 추후 상용화 단계에서 추가 기능을 넣어서 구현 예정"
   ]
  },
  {
   "cell_type": "markdown",
   "metadata": {},
   "source": [
    "### 간단한 logging 라이브러리 사용법\n",
    "\n",
    "- 파이썬에는 로그를 다루는 logging 라이브러리가 있음\n",
    "- 로딩 정보는 레벨이 있음\n",
    "- 로깅 정보는 로그의 레벨에 따라서 출력을 제한 할 수 있음\n",
    "  - DEBUG > INFO > WARNING > ERROR > Critical"
   ]
  },
  {
   "cell_type": "code",
   "execution_count": 3,
   "metadata": {},
   "outputs": [],
   "source": [
    "import logging\n",
    "# 파일로 남기기 위해서는 filename='test.log' 파라미터, 어느 로그까지 남길 것인지를 level 로 설정 가능\n",
    "logging.basicConfig(filename='test.log', level=logging.ERROR)\n",
    "\n",
    "# 로그를 남길 부분에 다음과 같이 로그 레벨에 맞추어 출력해주면 해당 내용이 파일에 들어감\n",
    "logging.debug(\"debug\")\n",
    "logging.info(\"info\")\n",
    "logging.warning(\"warning\")\n",
    "logging.error(\"error\")\n",
    "logging.critical(\"critical\")"
   ]
  },
  {
   "cell_type": "markdown",
   "metadata": {},
   "source": [
    "### flask 와 logging\n",
    "- logging 라이브러리와 함께 flask logging 기능 사용 가능\n",
    "- 주요 logging 핸들러 (어떻게 로그를 다룰 것인지에 대해 미리 구현된 함수들을 제공)\n",
    "  - FileHandler - 파일로 로그를 저장\n",
    "  - RotatingFileHandler - 파일로 로그를 저장하되, 파일이 정해진 사이즈를 넘어가면, 새로운 파일로 생성\n",
    "    - maxBytes=하나의파일사이즈, backupCount=파일갯수\n",
    "    - 전체 파일을 다 쓰면, 다시 처음부터 씀\n",
    "  - NTEventLogHandler - 윈도우 시스템 로그로 남김\n",
    "  - SysLogHandler - 유닉스 계열 시스템의 syslog 로 남김\n",
    "\n",
    "> 서버 상에서는 로그 파일이 전체 디스크를 채울 경우, 비정상동작을 할 수 있으므로 RotatingFileHandler 가 일반적인 경우에는 적합 "
   ]
  },
  {
   "cell_type": "markdown",
   "metadata": {},
   "source": [
    "- 다음과 같이 debug 옵션을 써줄 경우, app.debug 에 해당 값이 들어가고, debug=True 일 경우, 상세 정보를 화면에 표시\n",
    "  - 주로 개발/테스트시 사용\n",
    "\n",
    "```python\n",
    "    app.run(host=\"0.0.0.0\", port=\"8080\", debug=True)\n",
    "```"
   ]
  },
  {
   "cell_type": "markdown",
   "metadata": {},
   "source": [
    "- 다음과 같이 작성해서, 상용화시에는 app.debug 를 False 로 놓고, 디버그 정보를 로그로 남기는 것이 일반적임\n",
    "\n",
    "<div class=\"alert alert-block\" style=\"border: 1px solid #FFB300;background-color:#F9FBE7;\">\n",
    "<font size=\"4em\" style=\"font-weight:bold;color:#BF360C;\">2021.12.06 업데이트</font><br>\n",
    "최근에는 app.debug 값을 app.run 에서 설정하기 전에, 미리 설정해주어야, 하단부 if not app.debug 에 설정이 적용되는 것을 확인하였습니다. 따라서 app.run() 에 debug 값을 적용하였을 때, 해당 debug 값이 다음 코드에 적용되지 않을 수 있습니다. 그래서, 다음과 같이 app.debug 값을 미리 설정해주어, 설정하는 debug 값이 알맞게 적용되도록 코드를 업데이트하였습니다\n",
    "</div>\n",
    "\n",
    "```python\n",
    "app.debug = False\n",
    "if not app.debug:\n",
    "    import logging\n",
    "    from logging.handlers import RotatingFileHandler # logging 핸들러 이름을 적어줌\n",
    "    file_handler = RotatingFileHandler('dave_server.log', maxBytes=2000, backupCount=10) \n",
    "    file_handler.setLevel(logging.WARNING) # 어느 단계까지 로깅을 할지를 적어줌\n",
    "    app.logger.addHandler(file_handler) # app.logger.addHandler() 에 등록시켜줘야 app.logger 로 사용 가능\n",
    "    '''\n",
    "    for index in range(10000):\n",
    "        app.logger.warning(str(index))\n",
    "    '''\n",
    "```"
   ]
  },
  {
   "cell_type": "code",
   "execution_count": 2,
   "metadata": {},
   "outputs": [
    {
     "name": "stdout",
     "output_type": "stream",
     "text": [
      " * Serving Flask app \"__main__\" (lazy loading)\n",
      " * Environment: production\n",
      "\u001b[31m   WARNING: This is a development server. Do not use it in a production deployment.\u001b[0m\n",
      "\u001b[2m   Use a production WSGI server instead.\u001b[0m\n",
      " * Debug mode: off\n"
     ]
    },
    {
     "name": "stderr",
     "output_type": "stream",
     "text": [
      "[2020-08-01 18:21:31,492] ERROR in <ipython-input-2-209270e31726>: 404 Not Found: The requested URL was not found on the server. If you entered the URL manually please check your spelling and try again.\n",
      "127.0.0.1 - - [01/Aug/2020 18:21:31] \"\u001b[33mGET /test HTTP/1.1\u001b[0m\" 404 -\n",
      "[2020-08-01 18:21:31,626] ERROR in <ipython-input-2-209270e31726>: 404 Not Found: The requested URL was not found on the server. If you entered the URL manually please check your spelling and try again.\n",
      "127.0.0.1 - - [01/Aug/2020 18:21:31] \"\u001b[33mGET /favicon.ico HTTP/1.1\u001b[0m\" 404 -\n"
     ]
    }
   ],
   "source": [
    "from flask import Flask \n",
    "import requests\n",
    "\n",
    "app = Flask(__name__)\n",
    "\n",
    "# 2021.12.06 업데이트\n",
    "# 최근에는 app.debug 값을 app.run 에서 설정하기 전에, 미리 설정해주어야, 하단부 if not app.debug 에 설정이 \n",
    "# 적용되는 것을 확인하였습니다. 따라서, app.debug 값을 미리 설정해주는 코드를 추가하였습니다\n",
    "# 즉, app.run 에서의 debug 옵션과, app.debug 값을 기반으로 한 logging 설정은 분리된 설정으로 이해하시면 좋을 것 같습니다\n",
    "app.debug = False\n",
    "\n",
    "if not app.debug:\n",
    "    import logging\n",
    "    from logging.handlers import RotatingFileHandler # logging 핸들러 이름을 적어줌\n",
    "    file_handler = RotatingFileHandler('dave_server.log', maxBytes=2000, backupCount=10) \n",
    "    file_handler.setLevel(logging.WARNING) # 어느 단계까지 로깅을 할지를 적어줌\n",
    "    app.logger.addHandler(file_handler) # app.logger.addHandler() 에 등록시켜줘야 app.logger 로 사용 가능\n",
    "\n",
    "@app.errorhandler(404)\n",
    "def page_not_found(error):\n",
    "    app.logger.error(error)\n",
    "    return \"<h1>404 Error</h1>\", 404\n",
    "\n",
    "if __name__ == \"__main__\":\n",
    "    app.run(host=\"0.0.0.0\", port=\"8080\")"
   ]
  },
  {
   "cell_type": "markdown",
   "metadata": {},
   "source": [
    "<div class=\"alert alert-block\" style=\"border: 1px solid #FFB300;background-color:#F9FBE7;\">\n",
    "<font size=\"3em\" style=\"font-weight:bold;color:#3f8dbf;\">실습하기</font><br>\n",
    "http://localhost:8080/test 로 테스트해보기\n",
    "</div>"
   ]
  },
  {
   "cell_type": "markdown",
   "metadata": {},
   "source": [
    "### 6.3. 다양한 데코레이터"
   ]
  },
  {
   "cell_type": "markdown",
   "metadata": {},
   "source": [
    "* before_first_request : 웹 application 기동 이후 가장 처음에 들어오는 HTTP 요청에서만 실행\n",
    "* before_request : HTTP 요청이 들어올 때마다 실행\n",
    "  - before_first_request, before_request는 인자를 전달할 수는 없음 <br><br>  \n",
    "* after_request : HTTP 요청 처리가 끝나고 브라우저에 응답하기 전에 실행\n",
    "  - response 를 리턴해야 함"
   ]
  },
  {
   "cell_type": "code",
   "execution_count": null,
   "metadata": {},
   "outputs": [],
   "source": [
    "from flask import Flask \n",
    "import requests\n",
    "\n",
    "app = Flask(__name__)   \n",
    "\n",
    "@app.before_first_request\n",
    "def before_first_request():\n",
    "    print (\"flask 실행 후 첫 요청 때만 실행\")\n",
    " \n",
    "@app.before_request\n",
    "def before_request():\n",
    "    print (\"HTTP 요청이 들어올 때마다 실행\")\n",
    " \n",
    "@app.after_request\n",
    "def after_request(response):\n",
    "    print (\"HTTP 요청 처리가 끝나고 브라우저에 응답하기 전에 실행\")\n",
    "    return response\n",
    "\n",
    "    \n",
    "@app.route(\"/hello\")\n",
    "def hello():                           \n",
    "    return \"<h1>Hello Flask!</h1>\"\n",
    "\n",
    "\n",
    "if __name__ == \"__main__\":\n",
    "    app.run(host=\"0.0.0.0\", port=\"8080\")"
   ]
  }
 ],
 "metadata": {
  "kernelspec": {
   "display_name": "Python 3",
   "language": "python",
   "name": "python3"
  },
  "language_info": {
   "codemirror_mode": {
    "name": "ipython",
    "version": 3
   },
   "file_extension": ".py",
   "mimetype": "text/x-python",
   "name": "python",
   "nbconvert_exporter": "python",
   "pygments_lexer": "ipython3",
   "version": "3.8.5"
  },
  "nbTranslate": {
   "displayLangs": [
    "*"
   ],
   "hotkey": "alt-t",
   "langInMainMenu": true,
   "sourceLang": "en",
   "targetLang": "fr",
   "useGoogleTranslate": true
  }
 },
 "nbformat": 4,
 "nbformat_minor": 2
}
