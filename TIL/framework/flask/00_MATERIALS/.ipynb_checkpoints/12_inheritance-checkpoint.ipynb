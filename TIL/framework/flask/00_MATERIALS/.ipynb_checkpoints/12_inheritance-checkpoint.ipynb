{
 "cells": [
  {
   "cell_type": "markdown",
   "metadata": {},
   "source": [
    "## 2. 예제로 이해하는 객체지향 문법 (상속)"
   ]
  },
  {
   "cell_type": "markdown",
   "metadata": {},
   "source": [
    "### 1. Class Inheritance (상속)\n",
    "  - **추상화(abstraction)**: 여러 클래스에 중복되는 속성, 메서드를 하나의 기본 클래스로 작성하는 작업\n",
    "  - **상속(inheritance)**: 기본 클래스의 공통 기능을 물려받고, 다른 부분만 추가 또는 변경하는 것\n",
    "    + 이 때 기본 클래스는 부모 클래스(또는 상위 클래스), Parent, Super, Base class 라고 부름\n",
    "    + 기본 클래스 기능을 물려받는 클래스는 자식 클래스(또는 하위 클래스), Child, Sub, Derived class 라고 부름\n",
    "  <br><br>\n",
    "  - 코드 재사용이 가능, 공통 기능의 경우 기본 클래스 코드만 수정하면 된다는 장점\n",
    "  - 부모 클래스가 둘 이상인 경우는 다중 상속 이라고 부름\n",
    " <img src=\"https://www.fun-coding.org/00_Images/oop3.png\" />"
   ]
  },
  {
   "cell_type": "markdown",
   "metadata": {},
   "source": [
    "### 예: 사각형, 삼각형, 원 클래스\n",
    "* 공통점과 차이점 찾아보기\n",
    "  + 사각형: **사각형 이름, 사각형 색**, 사각형 너비/높이, 사각형 넓이\n",
    "  + 삼각형: **삼각형 이름, 삼각형 색**, 삼각형 한 변 길이, 삼각형 넓이\n",
    "  + 원: **원 이름, 원 색**, 원 반지름, 원 넓이"
   ]
  },
  {
   "cell_type": "markdown",
   "metadata": {},
   "source": [
    "* 부모 클래스를 자식 클래스에 인자로 넣으면 상속이 됨\n",
    "<pre>\n",
    "  - 다음 코드는 __init__(self, name, color) 메서드가 상속되고,\n",
    "  - self.name과 self.color 도 __init__ 실행시 생성됨\n",
    "</pre>"
   ]
  },
  {
   "cell_type": "code",
   "execution_count": 61,
   "metadata": {},
   "outputs": [],
   "source": [
    "class Figure:\n",
    "    def __init__(self, name, color):\n",
    "        self.name = name\n",
    "        self.color = color"
   ]
  },
  {
   "cell_type": "code",
   "execution_count": 62,
   "metadata": {},
   "outputs": [],
   "source": [
    "class Quadrangle(Figure):\n",
    "    def set_area(self, width, height):\n",
    "        self.width = width \n",
    "        self.height = height\n",
    "\n",
    "    def get_info(self):\n",
    "        print (self.name, self.color, self.width * self.height)"
   ]
  },
  {
   "cell_type": "code",
   "execution_count": 63,
   "metadata": {},
   "outputs": [
    {
     "name": "stdout",
     "output_type": "stream",
     "text": [
      "dave blue 25\n"
     ]
    }
   ],
   "source": [
    "square = Quadrangle('dave', 'blue')\n",
    "square.set_area(5, 5)\n",
    "square.get_info()"
   ]
  },
  {
   "cell_type": "code",
   "execution_count": 64,
   "metadata": {},
   "outputs": [],
   "source": [
    "class Quadrangle:\n",
    "    def __init__(self, name, color):\n",
    "        self.name = name\n",
    "        self.color = color\n",
    "        \n",
    "    def set_area(self, width, height):\n",
    "        self.width = width \n",
    "        self.height = height\n",
    "\n",
    "    def get_info(self):\n",
    "        print (self.name, self.color, self.width * self.height)"
   ]
  },
  {
   "cell_type": "code",
   "execution_count": 65,
   "metadata": {},
   "outputs": [
    {
     "name": "stdout",
     "output_type": "stream",
     "text": [
      "dave red 25\n"
     ]
    }
   ],
   "source": [
    "square = Quadrangle('dave', 'red')\n",
    "square.set_area(5, 5)\n",
    "square.get_info()"
   ]
  },
  {
   "cell_type": "markdown",
   "metadata": {},
   "source": [
    "### 보며 다시 한번 이해해보기\n",
    "* https://goo.gl/AXau2u"
   ]
  },
  {
   "cell_type": "markdown",
   "metadata": {},
   "source": [
    "* 상속 관계인 클래스 확인하기 \n",
    "  - 내장함수 issubclass(자식 클래스, 부모 클래스) 사용하기"
   ]
  },
  {
   "cell_type": "code",
   "execution_count": 82,
   "metadata": {},
   "outputs": [],
   "source": [
    "class Figure:\n",
    "    def __init__(self, name, color):\n",
    "        self.name = name\n",
    "        self.color = color\n",
    "\n",
    "class Quadrangle(Figure):\n",
    "    def set_area(self, width, height):\n",
    "        self.width = width \n",
    "        self.height = height\n",
    "\n",
    "    def get_info(self):\n",
    "        print (self.name, self.color, self.width * self.height)"
   ]
  },
  {
   "cell_type": "code",
   "execution_count": 83,
   "metadata": {},
   "outputs": [
    {
     "data": {
      "text/plain": [
       "True"
      ]
     },
     "execution_count": 83,
     "metadata": {},
     "output_type": "execute_result"
    }
   ],
   "source": [
    "# Quadrangle 클래스가 Figure 클래스의 자식 클래스인지 확인\n",
    "issubclass(Quadrangle, Figure)"
   ]
  },
  {
   "cell_type": "markdown",
   "metadata": {},
   "source": [
    "* 클래스와 객체간의 관계 확인하기 \n",
    "  - 내장함수 isinstance(객체, 클래스) 사용하기"
   ]
  },
  {
   "cell_type": "code",
   "execution_count": 84,
   "metadata": {},
   "outputs": [],
   "source": [
    "figure1 = Figure('figure1', 'black')\n",
    "square = Quadrangle('square', 'red')"
   ]
  },
  {
   "cell_type": "code",
   "execution_count": 85,
   "metadata": {},
   "outputs": [
    {
     "name": "stdout",
     "output_type": "stream",
     "text": [
      "True\n",
      "True\n",
      "False\n",
      "True\n"
     ]
    }
   ],
   "source": [
    "print(isinstance(figure1, Figure))\n",
    "print(isinstance(square, Figure))\n",
    "print(isinstance(figure1, Quadrangle))\n",
    "print(isinstance(square, Quadrangle))"
   ]
  },
  {
   "cell_type": "markdown",
   "metadata": {},
   "source": [
    "### 또 다른 예: 사람과 학생"
   ]
  },
  {
   "cell_type": "code",
   "execution_count": 87,
   "metadata": {},
   "outputs": [],
   "source": [
    "# 클래스 선언\n",
    "class Person:\n",
    "    def __init__(self, name):\n",
    "        self.name = name\n",
    "        \n",
    "class Student(Person):\n",
    "    def study(self):\n",
    "        print (self.name + \" studies hard\")\n",
    "\n",
    "class Employee(Person):\n",
    "    def work(self):\n",
    "        print (self.name + \" works hard\")"
   ]
  },
  {
   "cell_type": "code",
   "execution_count": 88,
   "metadata": {},
   "outputs": [],
   "source": [
    "# 객체 생성\n",
    "student1 = Student(\"Dave\")\n",
    "employee1 = Employee(\"David\")"
   ]
  },
  {
   "cell_type": "code",
   "execution_count": 89,
   "metadata": {},
   "outputs": [
    {
     "name": "stdout",
     "output_type": "stream",
     "text": [
      "Dave studies hard\n",
      "David works hard\n"
     ]
    }
   ],
   "source": [
    "# 객체 실행\n",
    "student1.study()\n",
    "employee1.work()"
   ]
  },
  {
   "cell_type": "markdown",
   "metadata": {},
   "source": [
    "### 2. Method Override (메서드 재정의)"
   ]
  },
  {
   "cell_type": "markdown",
   "metadata": {},
   "source": [
    "* 부모 클래스의 method를 자식 클래스에서 재정의(override)\n",
    "* 자식 클래스에서 **부모 클래스 method를 재정의**함\n",
    "* 자식 클래스 객체에서는 재정의된 메소드가 호출됨\n",
    "* 자식 클래스에서 **부모 클래스의 메서드와 이름만 동일하면 메서드 재정의가 가능함**\n",
    "  - C++/Java언어 등에서는 메서드와 인자도 동일해야 함 "
   ]
  },
  {
   "cell_type": "code",
   "execution_count": 90,
   "metadata": {},
   "outputs": [],
   "source": [
    "# 클래스 선언\n",
    "class Person:\n",
    "    def __init__(self, name):\n",
    "        self.name = name\n",
    "\n",
    "    def work(self):\n",
    "        print (self.name + \" works hard\")        \n",
    "\n",
    "class Student(Person):\n",
    "    def work(self):\n",
    "        print (self.name + \" studies hard\")"
   ]
  },
  {
   "cell_type": "code",
   "execution_count": 91,
   "metadata": {},
   "outputs": [
    {
     "name": "stdout",
     "output_type": "stream",
     "text": [
      "Dave studies hard\n"
     ]
    }
   ],
   "source": [
    "# 객체 생성\n",
    "student1 = Student(\"Dave\")\n",
    "# 자식 클래스(Student)의 재정의된 work(self) 호출\n",
    "student1.work()"
   ]
  },
  {
   "cell_type": "markdown",
   "metadata": {},
   "source": [
    "### Sub 클래스에 메서드를 더 추가할 수도 있죠!"
   ]
  },
  {
   "cell_type": "code",
   "execution_count": 92,
   "metadata": {},
   "outputs": [],
   "source": [
    "class Person:\n",
    "    def work(self):\n",
    "        print('work hard')\n",
    "\n",
    "class Student(Person):\n",
    "    def work(self):\n",
    "        print('Study hard')\n",
    "        \n",
    "    def go_to_school(self):\n",
    "        print('Go to school')"
   ]
  },
  {
   "cell_type": "code",
   "execution_count": 93,
   "metadata": {},
   "outputs": [
    {
     "name": "stdout",
     "output_type": "stream",
     "text": [
      "work hard\n",
      "Study hard\n",
      "Go to school\n"
     ]
    }
   ],
   "source": [
    "p1 = Person()\n",
    "s1 = Student()\n",
    "\n",
    "p1.work()\n",
    "#p1.go_to_school()\n",
    "\n",
    "s1.work()\n",
    "s1.go_to_school()"
   ]
  },
  {
   "cell_type": "markdown",
   "metadata": {},
   "source": [
    "<div class=\"alert alert-block alert-success\">\n",
    "<strong><font color=\"blue\" size=\"4em\">초간단 연습</font></strong><br>\n",
    "* Car class 만들기<br>\n",
    "- Car class<br>\n",
    "  - attribute: 생성자에서 self.name 설정<br>\n",
    "  - method: get_info(self) - 이름 출력<br>\n",
    "<br>\n",
    "- Eletronic Car class<br>\n",
    "  - attribute: 생성자에서 self.name 설정<br>\n",
    "  - method overide: get_info(self) - 이름과 사용 연료(Eletronic) 출력<br>\n",
    "<br>\n",
    "- Gasoline Car class<br>\n",
    "  - attribute: 생성자에서 self.name 설정<br>\n",
    "  - method overide: get_info(self) - 이름과 사용 연료(Gasoline) 출력\n",
    "</div>"
   ]
  },
  {
   "cell_type": "code",
   "execution_count": 95,
   "metadata": {},
   "outputs": [
    {
     "name": "stdout",
     "output_type": "stream",
     "text": [
      "dave Fuel: Eletronic\n",
      "david Fuel: Gasoline\n"
     ]
    }
   ],
   "source": [
    "class Car:\n",
    "    def __init__(self, name):\n",
    "        self.name = name\n",
    "    \n",
    "    def get_info(self):\n",
    "        print (self.name)\n",
    "\n",
    "class ElecCar(Car):\n",
    "    def get_info(self):\n",
    "        print (self.name, 'Fuel: Eletronic')\n",
    "\n",
    "        \n",
    "class GasoCar(Car):\n",
    "    def get_info(self):\n",
    "        print (self.name, 'Fuel: Gasoline')\n",
    "\n",
    "elec = ElecCar('dave')\n",
    "gaso = GasoCar('david')\n",
    "elec.get_info()\n",
    "gaso.get_info()"
   ]
  },
  {
   "cell_type": "markdown",
   "metadata": {},
   "source": [
    "### 3. 자식 클래스에서 부모 클래스 메서드 호출 (super 와 self)\n",
    "### super()\n",
    " - 자식 클래스에서 부모 클래스의 method를 호출할 때 사용\n",
    "   - super().부모 클래스의 method명"
   ]
  },
  {
   "cell_type": "code",
   "execution_count": 96,
   "metadata": {},
   "outputs": [],
   "source": [
    "# 클래스 선언\n",
    "class Person:\n",
    "    def work(self):\n",
    "        print('work hard')\n",
    "\n",
    "class Student(Person):\n",
    "    def work(self):\n",
    "        print('Study hard')\n",
    "        \n",
    "    def parttime(self):\n",
    "        super().work()"
   ]
  },
  {
   "cell_type": "code",
   "execution_count": 97,
   "metadata": {},
   "outputs": [
    {
     "name": "stdout",
     "output_type": "stream",
     "text": [
      "Study hard\n",
      "work hard\n"
     ]
    }
   ],
   "source": [
    "student1 = Student()\n",
    "student1.work()\n",
    "student1.parttime()"
   ]
  },
  {
   "cell_type": "markdown",
   "metadata": {},
   "source": [
    "### self\n",
    " - self는 현재의 객체를 나타냄\n",
    "   - self.method명 또는 attribute명 으로 호출함\n",
    " - C++/C#, Java언어에서는 this 라는 키워드를 사용함"
   ]
  },
  {
   "cell_type": "code",
   "execution_count": 98,
   "metadata": {},
   "outputs": [],
   "source": [
    "# 클래스 선언\n",
    "class Person:\n",
    "    def work(self):\n",
    "        print('work hard')\n",
    "\n",
    "class Student(Person):\n",
    "    def work(self):\n",
    "        print('Study hard')\n",
    "        \n",
    "    def parttime(self):\n",
    "        super().work()\n",
    "\n",
    "    def general(self):\n",
    "        self.work() "
   ]
  },
  {
   "cell_type": "code",
   "execution_count": 99,
   "metadata": {
    "scrolled": true
   },
   "outputs": [
    {
     "name": "stdout",
     "output_type": "stream",
     "text": [
      "Study hard\n",
      "work hard\n",
      "Study hard\n"
     ]
    }
   ],
   "source": [
    "student1 = Student()\n",
    "student1.work()\n",
    "student1.parttime()\n",
    "student1.general()"
   ]
  }
 ],
 "metadata": {
  "kernelspec": {
   "display_name": "Python 3",
   "language": "python",
   "name": "python3"
  },
  "language_info": {
   "codemirror_mode": {
    "name": "ipython",
    "version": 3
   },
   "file_extension": ".py",
   "mimetype": "text/x-python",
   "name": "python",
   "nbconvert_exporter": "python",
   "pygments_lexer": "ipython3",
   "version": "3.7.7"
  }
 },
 "nbformat": 4,
 "nbformat_minor": 1
}
