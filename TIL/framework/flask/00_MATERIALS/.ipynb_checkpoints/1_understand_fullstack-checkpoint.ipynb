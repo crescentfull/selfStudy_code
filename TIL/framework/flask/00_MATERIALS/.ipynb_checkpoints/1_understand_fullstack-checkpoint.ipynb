{
 "cells": [
  {
   "cell_type": "markdown",
   "metadata": {},
   "source": [
    "## 0. 풀스택 서비스 개발 목표"
   ]
  },
  {
   "cell_type": "markdown",
   "metadata": {},
   "source": [
    "### 목표\n",
    "- 최종 목표: \n",
    "  1. 나만의 풀스택 서비스 개발\n",
    "  2. 자유자재로 다양한 기술을 익히고 활용할 수 있는 기본기 쌓기\n",
    "  3. 혼자서도 서비스 개발이 가능한 테크트리\n",
    "  \n",
    "### 원칙\n",
    "  1. 가급적 쉬운 기술 사용\n",
    "  2. 최신 기술만 사용\n",
    "  3. 다른 기술과 연결되어 있지 않고, 학습곡선이 높기만한 프레임워크는 배제\n",
    "  4. 학습곡선까지 포함해서, 높은 생산성을 가진 기술 사용\n",
    "  5. 단계별 난이도 고려\n",
    "  6. <b>프로토타입이 아니라, 실제 상용화 수준으로 개발</b>"
   ]
  },
  {
   "cell_type": "markdown",
   "metadata": {},
   "source": [
    "<img src=\"https://www.fun-coding.org/style/images/ads/fullstack_roadmap.jpg\">"
   ]
  },
  {
   "cell_type": "markdown",
   "metadata": {},
   "source": [
    "### 학습 곡선 (러닝 커브)\n",
    "- 다양한 기술을 익힐 때에는 단계가 있음\n",
    "- 각 기술마다 학습 곡선 (러닝 커브)가 있음\n",
    "- [러닝 커브](https://www.google.com/search?q=programming+learning+curve+python+java&tbm=isch&ved=2ahUKEwiI3v-_jOzoAhUFfN4KHSD7CGUQ2-cCegQIABAA&oq=programming+learning+curve+python+java&gs_lcp=CgNpbWcQAzoECAAQHjoGCAAQCBAeUMHKAVi02AFgtNkBaABwAHgAgAFwiAHyCZIBBDAuMTKYAQCgAQGqAQtnd3Mtd2l6LWltZw&sclient=img&ei=h92XXsj-CoX4-Qag9qOoBg&bih=977&biw=1920&rlz=1C5CHFA_enKR883KR883#imgrc=lParFoOQXrDjwM)\n",
    "- 예:\n",
    "  - 데이터베이스를 처음 익히려면 SQL을 먼저 익혀야 함\n",
    "  - 회사에서 오라클(대규모 금융 시스템등에서 사용) 데이터베이스를 쓴다고, 오라클 데이터베이스를 익히면서, 복잡한 오라클 특화 기능을 익히면 SQL, 오라클 둘다 익히는데 큰 어려움을 겪음\n",
    "    - 실제 자신만의 서비스 개발에도 아무 도움이 안됨\n",
    "\n",
    "\n",
    "> 낮은 학습 곡선의 기술을 선택한 후, 필요에 따라 높은 학습 곡선을 신중히 선택해야, 원하는 기간 내에 개발이 가능함 <br>\n",
    "> 유행하는 기술은 수시로 달라짐, 다양한 기술 경험을 쌓는 것이 좋음\n",
    "\n",
    "\n"
   ]
  },
  {
   "cell_type": "markdown",
   "metadata": {},
   "source": [
    "### 스타트업 개발 프로세스\n",
    "- 적은 리소스로 짧은 기간에 고객 반응 확인\n",
    "<img src=\"https://www.fun-coding.org/style/images/ads/startup_process.jpg\">"
   ]
  },
  {
   "cell_type": "markdown",
   "metadata": {},
   "source": [
    "## 1. 프레임워크란?\n",
    "- 프레임(Frame, 틀) + 워크(work, 일하다)\n",
    "  - 미리 만들어진 틀을 가지고 일하다.\n",
    "<table>\n",
    "    <tr>\n",
    "        <td><img src=\"https://www.fun-coding.org/style/images/ads/lego_frame.jpg\"></td>\n",
    "        <td><img src=\"https://www.fun-coding.org/style/images/ads/lego_set.jpg\"></td>\n",
    "    </tr>\n",
    "</table>"
   ]
  },
  {
   "cell_type": "markdown",
   "metadata": {},
   "source": [
    "#### 템플릿 코드: 크롤링(타이틀)\n",
    "- 사용법\n",
    "  - crawling_template(웹주소, css selector)\n",
    "  \n",
    "#### 크롤링 프레임워크를 만들고, crawling_template() 함수를 제공 \n",
    "- 장점: 크롤링 원리를 몰라도 크롤링 가능\n",
    "- 단점: 제공하는 기능 외에는 사용 불가, 해당 함수 사용법을 잘 알아도, 프로그래밍 실력이 늘거나, 다른 기술을 익힐 때, 시너지가 없음"
   ]
  },
  {
   "cell_type": "code",
   "execution_count": null,
   "metadata": {},
   "outputs": [],
   "source": [
    "import requests\n",
    "from bs4 import BeautifulSoup\n",
    "\n",
    "def crawling_template(url, css_selector):\n",
    "    return_data = list()\n",
    "    res = requests.get(url)\n",
    "    soup = BeautifulSoup(res.content, 'html.parser')\n",
    "    datas1 = soup.select(css_selector)\n",
    "    for item in datas1:\n",
    "        return_data.append(item.get_text())\n",
    "    return return_data"
   ]
  },
  {
   "cell_type": "markdown",
   "metadata": {},
   "source": [
    "### Why flask?\n",
    "- 백엔드 기술을 처음 익히는데 적합\n",
    "  - 파이썬을 사용하므로, 다양한 파이썬 라이브러리 활용 가능함 (확장성이 매우 큼)\n",
    "  - 처음 익힐 시에는 복잡도를 낮춰야 함\n",
    "    - 새로운 언어 + 처음 익히는 백엔드 조합은 복잡도가 훨씬 높아져서, 아무것도 익힐 수 없음\n",
    "  - flask 로 백엔드를 익히면, 기본적인 백엔드 기술에 대해 이해도가 높아지고, 다른 기술을 익히는데 도움이 됨\n",
    "    - Rest API, CORS, 데이터베이스 연결, MVC 등 가장 기본적인 기술을 다룰 수 있으며, 이는 다른 언어/프레임워크에 그대로 적용 가능\n",
    "    - 백엔드 이해와 구현 경험을 기반으로 JAVA Spring/Go 등 다른 언어로 구현을 대체하면 빠르게 다양한 기술을 익힐 수 있음\n",
    "<br><br>\n",
    "- Django를 선택하지 않은 이유: 학습곡선이 높고, 다른 기술과 연결되어 있지 않음\n",
    "  - 즉, 이 기술의 사용법을 익힌다고 해서, 다른 기술을 익히는데 도움이 안됨 (Django 함수 사용법만 익히는 것이므로, 다른 언어/프레임워크에 적용 안됨)\n",
    "  - <b>Django 만</b> 잘하는 개발자를 채용하는 거의 없다고 봐야함\n",
    "    - 비즈니스 변화에 따라 다양한 기술을 빠르게 익히고 활용할 수 있는 개발자를 원함"
   ]
  },
  {
   "cell_type": "markdown",
   "metadata": {},
   "source": [
    "<img src=\"https://www.fun-coding.org/style/images/ads/flask_top.jpg\">"
   ]
  },
  {
   "cell_type": "markdown",
   "metadata": {},
   "source": [
    "## 프론트엔드와 백엔드 기본 구성\n",
    "- 백엔드는 다양하게 구성 가능하고, architecturing 을 할 수 있음\n",
    "  - 주로 동시 접속자 수 규모에 따라, 변경 \n",
    "<img src=\"https://www.fun-coding.org/00_Images/fullstack_web.jpg\">"
   ]
  },
  {
   "cell_type": "markdown",
   "metadata": {},
   "source": [
    "## 2. 웹서비스 개발과 파이썬 flask 를 활용한 웹서비스 개발\n",
    "* 넓게 큰 그림으로 이해하는 웹 서비스 개발 동향\n",
    "  - 1세대: USER ---- INTERNET --- WEB SERVER (Read static HTML)\n",
    "  - 2세대: USER ---- INTERNET --- WEB SERVER (Create request-based HTML from CGI + DB)  \n",
    "  - 3세대: USER ---- INTERNET --- WEB SERVER MVC 패턴 기반 프레임워크 활용 \n",
    "    - MVC: Model - View - Control 패턴으로 구조화된 프레임워크를 사용, 빠르게 다양한 기능을 제공\n",
    "  - 4세대: OpenAPI, RestAPI 를 혼합하여 다양한 서비스 제공, 다양한 웹 서비스 환경 개발"
   ]
  }
 ],
 "metadata": {
  "kernelspec": {
   "display_name": "Python 3",
   "language": "python",
   "name": "python3"
  },
  "language_info": {
   "codemirror_mode": {
    "name": "ipython",
    "version": 3
   },
   "file_extension": ".py",
   "mimetype": "text/x-python",
   "name": "python",
   "nbconvert_exporter": "python",
   "pygments_lexer": "ipython3",
   "version": "3.7.7"
  },
  "nbTranslate": {
   "displayLangs": [
    "*"
   ],
   "hotkey": "alt-t",
   "langInMainMenu": true,
   "sourceLang": "en",
   "targetLang": "fr",
   "useGoogleTranslate": true
  }
 },
 "nbformat": 4,
 "nbformat_minor": 2
}
