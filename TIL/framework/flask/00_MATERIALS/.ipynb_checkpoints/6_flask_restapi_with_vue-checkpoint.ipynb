{
 "cells": [
  {
   "cell_type": "markdown",
   "metadata": {},
   "source": [
    "## 4. 실제 프론트엔드(vue)와 flask  기반 Rest API"
   ]
  },
  {
   "cell_type": "markdown",
   "metadata": {},
   "source": [
    "### CDN이란?\n",
    "- CDN(Contents Delivery Network) 은 지리적, 물리적으로 떨어져 있는 사용자에게 컨텐츠 제공자의 컨텐츠를 더 빠르게 제공할 수 있는 기술을 의미\n",
    "- 사용자가 멀리 있는 서버로부터 컨텐츠를 다운로드 받으면, 시간이 오래 걸리므로, 사용자와 가까운 곳에 위치한 Cache Server에 해당 컨텐츠를 저장해놓고, 컨텐츠 요청시, 서버가 아닌,  Cache Server가 응답을 주는 기술\n",
    "- 예: https://getbootstrap.com/docs/4.5/getting-started/introduction/"
   ]
  },
  {
   "cell_type": "markdown",
   "metadata": {},
   "source": [
    "### 폴더 구성\n",
    "- vue 폴더와 flask 폴더 구분\n",
    "- vue 폴더에 vue_test.html 파일 생성\n",
    "  - https://getbootstrap.com/docs/4.5/getting-started/introduction/ 에서 다음 템플릿 코드 복사\n",
    "\n",
    "```html\n",
    "<!doctype html>\n",
    "<html lang=\"en\">\n",
    "  <head>\n",
    "    <!-- Required meta tags -->\n",
    "    <meta charset=\"utf-8\">\n",
    "    <meta name=\"viewport\" content=\"width=device-width, initial-scale=1, shrink-to-fit=no\">\n",
    "\n",
    "    <!-- Bootstrap CSS -->\n",
    "    <link rel=\"stylesheet\" href=\"https://stackpath.bootstrapcdn.com/bootstrap/4.5.0/css/bootstrap.min.css\" integrity=\"sha384-9aIt2nRpC12Uk9gS9baDl411NQApFmC26EwAOH8WgZl5MYYxFfc+NcPb1dKGj7Sk\" crossorigin=\"anonymous\">\n",
    "\n",
    "    <title>Hello, world!</title>\n",
    "  </head>\n",
    "  <body>\n",
    "    <h1>Hello, world!</h1>\n",
    "\n",
    "    <!-- Optional JavaScript -->\n",
    "    <!-- jQuery first, then Popper.js, then Bootstrap JS -->\n",
    "    <script src=\"https://code.jquery.com/jquery-3.5.1.slim.min.js\" integrity=\"sha384-DfXdz2htPH0lsSSs5nCTpuj/zy4C+OGpamoFVy38MVBnE+IbbVYUew+OrCXaRkfj\" crossorigin=\"anonymous\"></script>\n",
    "    <script src=\"https://cdn.jsdelivr.net/npm/popper.js@1.16.0/dist/umd/popper.min.js\" integrity=\"sha384-Q6E9RHvbIyZFJoft+2mJbHaEWldlvI9IOYy5n3zV9zzTtmI3UksdQRVvoxMfooAo\" crossorigin=\"anonymous\"></script>\n",
    "    <script src=\"https://stackpath.bootstrapcdn.com/bootstrap/4.5.0/js/bootstrap.min.js\" integrity=\"sha384-OgVRvuATP1z7JjHLkuOU7Xw704+h835Lr+6QL9UvYjZE3Ipu6Tp75j7Bh/kR0JKI\" crossorigin=\"anonymous\"></script>\n",
    "  </body>\n",
    "</html>\n",
    "```\n",
    "\n",
    "\n",
    "> CDN 활용법: 주요 javascript, css 파일을 서버에 놓지 않고, 특정 주소를 통해 웹페이지 오픈시 자동으로 다운로드되도록 하는 방법"
   ]
  },
  {
   "cell_type": "markdown",
   "metadata": {},
   "source": [
    "### Vue 코드 추가\n",
    "1. ```<body>``` 태그 안에 ```<div id=\"app\"></div>``` 로 표시될 부분을 감싸기\n",
    "2. ```</body>``` 바로 위에 vue 파일을 CDN 주소로 연결\n",
    "\n",
    "```html\n",
    "<!doctype html>\n",
    "<html lang=\"en\">\n",
    "  <head>\n",
    "    <!-- Required meta tags -->\n",
    "    <meta charset=\"utf-8\">\n",
    "    <meta name=\"viewport\" content=\"width=device-width, initial-scale=1, shrink-to-fit=no\">\n",
    "\n",
    "    <!-- Bootstrap CSS -->\n",
    "    <link rel=\"stylesheet\" href=\"https://stackpath.bootstrapcdn.com/bootstrap/4.5.0/css/bootstrap.min.css\" integrity=\"sha384-9aIt2nRpC12Uk9gS9baDl411NQApFmC26EwAOH8WgZl5MYYxFfc+NcPb1dKGj7Sk\" crossorigin=\"anonymous\">\n",
    "\n",
    "    <title>Hello, world!</title>\n",
    "  </head>\n",
    "  <body>\n",
    "    <div id=\"app\">      \n",
    "    <h1>Hello, world!</h1>\n",
    "    </div>\n",
    "    <!-- Optional JavaScript -->\n",
    "    <!-- jQuery first, then Popper.js, then Bootstrap JS -->\n",
    "    <script src=\"https://code.jquery.com/jquery-3.5.1.slim.min.js\" integrity=\"sha384-DfXdz2htPH0lsSSs5nCTpuj/zy4C+OGpamoFVy38MVBnE+IbbVYUew+OrCXaRkfj\" crossorigin=\"anonymous\"></script>\n",
    "    <script src=\"https://cdn.jsdelivr.net/npm/popper.js@1.16.0/dist/umd/popper.min.js\" integrity=\"sha384-Q6E9RHvbIyZFJoft+2mJbHaEWldlvI9IOYy5n3zV9zzTtmI3UksdQRVvoxMfooAo\" crossorigin=\"anonymous\"></script>\n",
    "    <script src=\"https://stackpath.bootstrapcdn.com/bootstrap/4.5.0/js/bootstrap.min.js\" integrity=\"sha384-OgVRvuATP1z7JjHLkuOU7Xw704+h835Lr+6QL9UvYjZE3Ipu6Tp75j7Bh/kR0JKI\" crossorigin=\"anonymous\"></script>\n",
    "\n",
    "    <!-- Vue Start -->\n",
    "    <script src=\"https://cdn.jsdelivr.net/npm/vue/dist/vue.js\"></script>\n",
    "    <script src=\"https://unpkg.com/axios/dist/axios.min.js\"></script>\n",
    "  </body>\n",
    "</html>\n",
    "```"
   ]
  },
  {
   "cell_type": "markdown",
   "metadata": {},
   "source": [
    "### Vue + Axios 코드 추가\n",
    "- axios 로 flask Rest API 호출"
   ]
  },
  {
   "cell_type": "markdown",
   "metadata": {},
   "source": [
    "- bootstrap 으로 버튼 추가\n",
    "\n",
    "```html\n",
    "      <button type=\"submit\" class=\"btn btn-secondary\" v-on:click=\"axios_test\">\n",
    "        GET TEST\n",
    "      </button>\n",
    "\n",
    "```\n",
    "\n",
    "```html\n",
    "    <script>\n",
    "      const app = new Vue({\n",
    "        el: \"#app\",\n",
    "        methods: {\n",
    "          axios_test() {\n",
    "            axios(\"http://localhost:8082/test\", {\n",
    "              method: \"get\",\n",
    "            })\n",
    "              .then((response) => {\n",
    "                console.log(response);\n",
    "              })\n",
    "              .catch((error) => {\n",
    "                console.log(error);\n",
    "              });\n",
    "          },\n",
    "        },\n",
    "      });\n",
    "    </script>\n",
    "```"
   ]
  },
  {
   "cell_type": "markdown",
   "metadata": {},
   "source": [
    "### 3. CORS(Cross Origin Resource Sharing)\n",
    "\n",
    "- 웹에서 사용하는 HTTP request는 기본적으로 다른 도메인의 데이터를 요청할 수 있음\n",
    "  - 예:\n",
    "    - 내가 접속한 웹페이지: www.fun-coding.org/index.html\n",
    "    - 해당 웹페이지 안에서 <img> 태그로 www.kkk.co.kr/google.jpg 파일을 가져와서 이미지로 보여줄 수 있음\n",
    "    - 해당 웹페이지 안에서 <link> 태그로 www.kkk.co.kr/style.css 파일을 가져와서 CSS 스타일을 적용할 수 있음\n",
    "    - **하지만! 다음 스크립트 태그로 둘러싸인 스크립트 코드에서 실행되는 HTTP request 는 www.fun-coding.org 에만 요청할 수 있음**\n",
    "    ```\n",
    "    <script></script>\n",
    "    ```\n",
    "      - 정확하게는 프로토콜, 호스트명, 포트가 동일해야 함\n",
    "      - 이를 **Same Origin Policy** 라고 함\n",
    "      \n",
    "> ajax, axios 와 같이 <script></script> 안에서 HTTP request 를 보낼 수 있는 기능이 생김에 따라, \n",
    "> <script></script> 안에서도 다른 사이트의 데이터 요청을 지원해야 한다라는 요구가 생겨서 CORS 라는 가이드가 마련됨 (각 언어별 구현)"
   ]
  },
  {
   "cell_type": "markdown",
   "metadata": {},
   "source": [
    "#### Error\n",
    "- HTTP Response 의 헤더에 Access-Control-Allow-Origin 관련 정보가 없으므로 브라우저 정책에 따라 Cross Domain 을 허용하지 않음\n",
    "```text\n",
    "Access to XMLHttpRequest at 'http://localhost:5000/payment/verify' from origin 'null' has been blocked by CORS policy: Response to preflight request doesn't pass access control check: No 'Access-Control-Allow-Origin' header is present on the requested resource.\n",
    "```"
   ]
  },
  {
   "cell_type": "markdown",
   "metadata": {},
   "source": [
    "### CORS 지원\n",
    "- flask_cors 라이브러리 사용\n",
    "\n",
    "```bash\n",
    "pip install flask_cors\n",
    "```"
   ]
  },
  {
   "cell_type": "markdown",
   "metadata": {},
   "source": [
    "#### 전체 flask 서비스에 CORS 지원시"
   ]
  },
  {
   "cell_type": "code",
   "execution_count": null,
   "metadata": {},
   "outputs": [],
   "source": [
    "from flask_cors import CORS\n",
    "\n",
    "app = Flask(__name__)\n",
    "CORS(app) # 이와 같이 선언해주면 전 요청/응답 헤더에 CORS 지원 헤더 정보를 넣어서, CORS 를 지원해줌"
   ]
  },
  {
   "cell_type": "markdown",
   "metadata": {},
   "source": [
    "###  REST API 구현해보기\n",
    " - 특정한 URI를 요청하면 JSON 형식으로 파라미터값을 가져오고, JSON 형식으로 데이터를 반환하도록 만들면 됨\n",
    " - flask에서는 dict(사전) 데이터를 응답 데이터로 만들고, 이를 jsonify() 메서드를 활용해서 JSON 응답 데이터로 만들 수 있음"
   ]
  },
  {
   "cell_type": "markdown",
   "metadata": {},
   "source": [
    "### REST API method 정의하기\n",
    "- flask API 정의시, methods 에 지원하는 request method 를 작성하면 됨\n",
    "  - 각 요청 메서드마다 요청 메서드에 함께 오는 파라미터값을 추출하는 방식이 다름 \n",
    "    - GET/PUT/DELETE 는 동일, POST 만 다름\n",
    "- API 리턴값은 flask 의 jsonify() 함수를 사용해서, JSON 형식으로 리턴값을 넣어서 보내면 됨\n",
    "\n",
    "```python\n",
    "@app.route(\"/test\", methods=['GET', 'POST', 'PUT', 'DELETE'])\n",
    "def test():\n",
    "    if request.method == 'POST':\n",
    "        print ('POST')\n",
    "        data = request.get_json()\n",
    "        print (data['email'])\n",
    "    if request.method == 'GET':\n",
    "        print ('GET')\n",
    "        user = request.args.get('email')\n",
    "        print (user)\n",
    "    if request.method == 'PUT':\n",
    "        print ('PUT')\n",
    "        user = request.args.get('email')\n",
    "        print (user)\n",
    "    if request.method == 'DELETE':\n",
    "        print ('DELETE')\n",
    "        user = request.args.get('email')\n",
    "        print (user)\n",
    "\n",
    "    return jsonify(\n",
    "        {'status': 'success'}\n",
    "    )\n",
    "```"
   ]
  },
  {
   "cell_type": "markdown",
   "metadata": {},
   "source": [
    "### axios (frontend) 에서 각 요청 메서드와 파라미터값 전달하기\n",
    "\n",
    "- vue template 에서 각 버튼 클릭시, 각 버튼에 연결된 함수를 호출하는 코드\n",
    "\n",
    "```html\n",
    "    <button type=\"submit\" class=\"btn btn-secondary\" v-on:click=\"test_get\">GET TEST</button>\n",
    "    <button type=\"submit\" class=\"btn btn-secondary\" v-on:click=\"test_post\">POST TEST</button>\n",
    "    <button type=\"submit\" class=\"btn btn-secondary\" v-on:click=\"test_put\">PUT TEST</button>\n",
    "    <button type=\"submit\" class=\"btn btn-secondary\" v-on:click=\"test_delete\">DELETE TEST</button>\n",
    "```\n",
    "\n",
    "- vue 에서 axios 로 HTTP를 요청하는 코드\n",
    "  - HTTP 요청 메서드는 method: 에 넣으면 됨\n",
    "  - GET, PUT, DELETE 는 params 에 데이터를 JSON 형식으로 넣으면 됨\n",
    "  - POST 는 data 에 데이터를 JSON 형식으로 넣으면 됨\n",
    "\n",
    "- flask 의 jsonify() 함수를 사용해서, JSON 형식으로 리턴된 리턴값은 response.data 에 담겨져 있으므로, 해당 데이터를 JSON 데이터를 꺼내듯이 추출하면 됨\n",
    "\n",
    "```javascript\n",
    "          test_get: () => {\n",
    "            axios(\"http://localhost:5000/test\", {\n",
    "              method: \"get\",\n",
    "              params: {\n",
    "                email: \"test@test.com\",\n",
    "              }\n",
    "            })\n",
    "              .then((response) => {\n",
    "                console.log(response.data['status']);\n",
    "              })\n",
    "              .catch((error) => {\n",
    "                console.log(error);\n",
    "              });\n",
    "          },\n",
    "          test_post: () => {\n",
    "            axios(\"http://localhost:5000/test\", {\n",
    "              method: \"post\",\n",
    "              data: {\n",
    "                email: \"test@test.com\",\n",
    "              }\n",
    "            })\n",
    "              .then((response) => {\n",
    "                console.log(response.data[\"status\"]);\n",
    "              })\n",
    "              .catch((error) => {\n",
    "                console.log(error);\n",
    "              });\n",
    "          },\n",
    "          test_put: () => {\n",
    "            axios(\"http://localhost:5000/test\", {\n",
    "              method: \"put\",\n",
    "              params: {\n",
    "                email: \"test@test.com\",\n",
    "              }\n",
    "            })\n",
    "              .then((response) => {\n",
    "                console.log(response.data[\"status\"]);\n",
    "              })\n",
    "              .catch((error) => {\n",
    "                console.log(error);\n",
    "              });\n",
    "          },\n",
    "          test_delete: () => {\n",
    "            axios(\"http://localhost:5000/test\", {\n",
    "              method: \"delete\",\n",
    "              params: {\n",
    "                email: \"test@test.com\",\n",
    "              }\n",
    "            })\n",
    "              .then((response) => {\n",
    "                console.log(response.data[\"status\"]);\n",
    "              })\n",
    "              .catch((error) => {\n",
    "                console.log(error);\n",
    "              });\n",
    "          }\n",
    "```"
   ]
  },
  {
   "cell_type": "markdown",
   "metadata": {},
   "source": [
    "### HTTP 요청 메서드 (request method)\n",
    "- 클라이언트(client)가 서버(server)에 HTTP 요청시 요청 목적을 알리는 표시\n",
    "- 크게 GET, POST, PUT, DELETE 방식이 있으며, 이 중에서 GET 과 POST 방식을 많이 사용함\n",
    "- 요청 메서드에 따라 요청 데이터를 전달하는 방식에 차이가 있음"
   ]
  },
  {
   "cell_type": "markdown",
   "metadata": {},
   "source": [
    "### 주요 Request Method in HTML\n",
    "- HTML 에서는 GET 과 POST 만 지원함\n",
    "\n",
    "- GET: 정보 읽기(SELECT)\n",
    "  - 전달이 필요한 파라미터들은 URL을 통해 전달\n",
    "<center><img src=\"https://www.fun-coding.org/00_Images/http_method_get.png\"/></center>\n",
    "\n",
    "- POST: 정보 입력하기(INSERT)\n",
    "  - 전달이 필요한 파라미터들은 HTTP body에 포함되어 전달되므로, 사용자는 직접적인 확인 불가\n",
    "<center><img src=\"https://www.fun-coding.org/00_Images/http_method_post.png\"/></center>\n",
    "\n",
    "- PUT: 정보 수정하기(UPDATE), DELETE: 정보 삭제하기(DELETE)\n",
    "  - GET 과 마찬가지로 파라미터들이 URL을 통해 전달\n",
    "\n",
    "> 사실상 GET 또는 POST 방식을 많이 사용하며, POST 방식이 파라미터 정보를 노출하지 않으므로 POST 방식을 선호 <br>\n",
    "> 단, 요청 기능에 따라 GET, POST, PUT, DELETE HTTP 메서드를 쓰는 것을 권장하고는 있음 ('Restful 하다' 라고 이야기함)\n"
   ]
  },
  {
   "cell_type": "code",
   "execution_count": null,
   "metadata": {},
   "outputs": [],
   "source": []
  }
 ],
 "metadata": {
  "kernelspec": {
   "display_name": "Python 3",
   "language": "python",
   "name": "python3"
  },
  "language_info": {
   "codemirror_mode": {
    "name": "ipython",
    "version": 3
   },
   "file_extension": ".py",
   "mimetype": "text/x-python",
   "name": "python",
   "nbconvert_exporter": "python",
   "pygments_lexer": "ipython3",
   "version": "3.7.7"
  },
  "nbTranslate": {
   "displayLangs": [
    "*"
   ],
   "hotkey": "alt-t",
   "langInMainMenu": true,
   "sourceLang": "en",
   "targetLang": "fr",
   "useGoogleTranslate": true
  }
 },
 "nbformat": 4,
 "nbformat_minor": 2
}
