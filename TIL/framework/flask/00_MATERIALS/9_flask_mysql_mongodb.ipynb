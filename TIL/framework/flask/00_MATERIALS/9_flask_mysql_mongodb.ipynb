{
 "cells": [
  {
   "cell_type": "markdown",
   "metadata": {},
   "source": [
    "## 8. flask 와 데이터베이스\n",
    "- 실제 웹서비스에서는 다양한 데이터베이스를 사용함\n",
    "- 변경 여지가 적은 경우, mysql 과 같은 관계형 데이터베이스 사용\n",
    "  - 가장 정보가 많고, 수십년간 사용되었기 때문에 보안, 안정적임\n",
    "- 변경 여지가 큰 웹서비스 로깅(logging)을 위해서는 NoSQL 을 사용\n",
    "- 이외에 웹서비스 성능 향상을 위해 redis 와 같은 in-memory 방식의 데이터베이스도 많이 사용됨\n",
    "\n",
    "> 기존 강좌에서 다뤘던 mysql(SQL) 과 mongodb(NoSQL) 에 대해 간단한 웹서비스 구현을 위한 사전 작업과 함께, 기존 강좌의 핵심 내용 정리"
   ]
  },
  {
   "cell_type": "markdown",
   "metadata": {},
   "source": [
    "### 블로그 기능과 데이터베이스 활용\n",
    "- mysql: 구독으로 얻어진 이메일 주소 정보를 저장\n",
    "- mongodb: 블로그 접근 사용자의 IP 와 접근 시간을 로그 형태로 저장 \n",
    "  - logging 라이브러리로 파일로 저장하지 않고, 몽고db를 활용\n",
    "  - 몽고db가 익숙치 않을 경우, logging 라이브러리로도 활용 가능\n",
    "  - 로깅은 통상적으로 수시로 포맷이 바뀌는 경우가 많으므로, 스키마 설정이 필요없는 NoSQL 이 적합"
   ]
  },
  {
   "cell_type": "markdown",
   "metadata": {},
   "source": [
    "## 8.1. flask 와 MySQL 사용\n",
    "- mongodb 는 크롤링 데이터등과 같이 방대하지만, 일부 유실되도 큰 문제없는 데이터 처리시 더 적합\n",
    "- 규격화되고 각 데이터의 극도의 안정성이 필요한 데이터는 MySQL 이 더 적합"
   ]
  },
  {
   "cell_type": "markdown",
   "metadata": {},
   "source": [
    "### SQLAlchemy VS Pymysql\n",
    "- Django 등에서 다양한 데이터베이스를 객체로 만들어서, 사용법을 통일하는 기법으로 SQLAlchemy 라는 기능을 사용함\n",
    "- SQL 이외에 추가적인 SQLAlchemy 기반 CRUD 기법을 익혀야 함\n",
    "- SQL, mongodb CRUD 에 익숙해지는 것이 보다 중요함\n",
    "\n",
    "\n",
    "> 우리는 pymysql 을 쓰기로 함\n",
    "\n",
    "- 굳이 객체로 만들어서, 복잡하게 다룰 필요 없음\n",
    "- 객체 생성이 느리므로, 성능도 직접 데이터베이스를 엑세스하는 것에 비해 나을 것이 없음\n",
    "\n",
    "```\n",
    "At the ORM level, the speed issues are because creating objects in Python is slow, and the SQLAlchemy ORM applies a large amount of bookkeeping to these objects as it fetches them, which is necessary in order for it to fulfill its usage contract, including unit of work, identity map, eager loading, collections, etc.\n",
    "```"
   ]
  },
  {
   "cell_type": "markdown",
   "metadata": {},
   "source": [
    "### Mysql 로컬 설치\n",
    "- 윈도우\n",
    "  - MySQL Community Server Download 로 검색 후, 다운로드 및 설치\n",
    "- 맥\n",
    "  - brew 설치 후,\n",
    "  \n",
    "```\n",
    "brew list\n",
    "brew install mysql\n",
    "mysql.server start\n",
    "mysql -u root\n",
    "```"
   ]
  },
  {
   "cell_type": "markdown",
   "metadata": {},
   "source": [
    "### Mysql 접속 및 설정\n",
    "- 터미널 모드에서 다음과 같이 명령\n",
    "```\n",
    "mysql -u root\n",
    "GRANT ALL PRIVILEGES ON *.* TO 'root'@'localhost';\n",
    "CREATE USER 'dave'@'localhost' IDENTIFIED BY 'funcoding';\n",
    "GRANT ALL PRIVILEGES ON *.* TO 'dave'@'localhost';\n",
    "flush privileges;\n",
    "```"
   ]
  },
  {
   "cell_type": "markdown",
   "metadata": {},
   "source": [
    "### 참고: Ubuntu 에서 MySQL 설치"
   ]
  },
  {
   "cell_type": "markdown",
   "metadata": {},
   "source": [
    "1. <b>sudo apt-get update</b>\n",
    "2. <b>sudo apt-get install mysql-server</b>\n",
    "3. <b>sudo mysql_secure_installation</b>\n",
    "   - 비밀번호 설정 필요\n",
    "4. <b>sudo vim /etc/mysql/mysql.conf.d/mysqld.cnf</b>\n",
    "   > 참고: 만약 vi 명령이 없다면, 다음과 같이 vi 설치 및 사용법 숙지\n",
    "   > sudo apt-get install vim\n",
    "\n",
    "   - 다음 설정을 [mysqld] 에 추가 ([mysqld] 설정 예 참고)\n",
    "   1. mysql 한글 설정 추가\n",
    "      ```bash\n",
    "      collation-server = utf8_unicode_ci\n",
    "      character-set-server = utf8\n",
    "      skip-character-set-client-handshake\n",
    "      ```\n",
    "   2. mysql 원격 접속 허용\n",
    "      - bind-address 0.0.0.0 로 변경\n",
    "      \n",
    "   **/etc/mysql/mysql.conf.d/mysqld.cnf 파일의 [mysqld] 설정 예**\n",
    "   \n",
    "```bash\n",
    "[mysqld]\n",
    "#\n",
    "# * Basic Settings\n",
    "#\n",
    "user            = mysql\n",
    "pid-file        = /var/run/mysqld/mysqld.pid\n",
    "socket          = /var/run/mysqld/mysqld.sock\n",
    "port            = 3306\n",
    "basedir         = /usr\n",
    "datadir         = /var/lib/mysql\n",
    "tmpdir          = /tmp\n",
    "lc-messages-dir = /usr/share/mysql\n",
    "skip-external-locking\n",
    "collation-server = utf8_unicode_ci\n",
    "character-set-server = utf8\n",
    "skip-character-set-client-handshake\n",
    "#\n",
    "# Instead of skip-networking the default is now to listen only on\n",
    "# localhost which is more compatible and is not less secure.\n",
    "bind-address            = 0.0.0.0\n",
    "```\n",
    "\n",
    "5. <b>sudo systemctl start mysql.service</b>\n",
    " - mysql 서비스 시작\n",
    "참고:\n",
    "    \n",
    "```bash\n",
    "Usage: sudo systemctl start|stop|restart|status mysql.service \n",
    "```\n",
    "\n",
    "6. <b>모든 호스트에서 mysql 접속 허용하기</b>\n",
    " \n",
    "```bash\n",
    " # sudo mysql 로 mysql 터미널로 들어감\n",
    "GRANT ALL PRIVILEGES ON *.* TO 'root'@'%';\n",
    "CREATE USER 'dave'@'%' IDENTIFIED BY 'funcoding';\n",
    "CREATE DATABASE dave_db;\n",
    "GRANT ALL PRIVILEGES ON dave_db.* TO 'dave'@'%' IDENTIFIED BY '암호';\n",
    "flush privileges;\n",
    "exit\n",
    " # sudo systemctl restart mysql.service\n",
    "```\n"
   ]
  },
  {
   "cell_type": "markdown",
   "metadata": {},
   "source": [
    "### pymysql 라이브러리 소개 및 설치\n",
    "* mysql을 python에서 사용할 수 있는 라이브러리 (pymysql 라이브러리 이외에도 MySQLdb(Mysql-pytion), MySQL connector 등 다양한 라이브러리 존재)\n",
    "* 이 중에서 설치가 가장 쉬운 라이브러리\n",
    "* 설치\n",
    "  - pip install PyMySQL\n",
    "  \n",
    "* 일반적인 mysql 핸들링 코드 작성 순서\n",
    "  1. PyMySql 모듈 import\n",
    "  2. pymysql.connect() 메소드를 사용하여 MySQL에 연결\n",
    "     - 호스트명, 포트, 로그인, 암호, 접속할 DB 등을 파라미터로 지정\n",
    "  3. MySQL 접속이 성공하면, Connection 객체로부터 cursor() 메서드를 호출하여 Cursor 객체를 가져옴\n",
    "  4. Cursor 객체의 execute() 메서드를 사용하여 SQL 문장을 DB 서버에 전송\n",
    "  5. SQL 쿼리의 경우 Cursor 객체의 fetchall(), fetchone(), fetchmany() 등의 메서드를 사용하여 서버로부터 가져온 데이타를 코드에서 활용\n",
    "  6. 삽입, 갱신, 삭제 등의 DML(Data Manipulation Language) 문장을 실행하는 경우, INSERT/UPDATE/DELETE 후 Connection 객체의 commit() 메서드를 사용하여 데이타를 확정\n",
    "  7. Connection 객체의 close() 메서드를 사용하여 DB 연결을 닫음"
   ]
  },
  {
   "cell_type": "markdown",
   "metadata": {},
   "source": [
    "### Pymysql 로 mysql 접속\n",
    "* pymysql.connect() 메소드를 사용하여 MySQL에 연결\n",
    "     - 호스트명, 포트, 로그인, 암호, 접속할 DB 등을 파라미터로 지정\n",
    "     - 주요 파라미터\n",
    "       - host : 접속할 mysql server 주소\n",
    "       - port : 접속할 mysql server 의 포트 번호\n",
    "       - user : mysql ID\n",
    "       - passwd : mysql ID의 암호\n",
    "       - db : 접속할 데이터베이스\n",
    "       - charset='utf8' : mysql에서 select하여 데이타를 가져올 때 한글이 깨질 수 있으므로 연결 설정에 넣어줌"
   ]
  },
  {
   "cell_type": "markdown",
   "metadata": {},
   "source": [
    "### 사전 작업\n",
    "```\n",
    "mysql -u root\n",
    "CREATE DATABASE blog_db;\n",
    "```"
   ]
  },
  {
   "cell_type": "code",
   "execution_count": 4,
   "metadata": {},
   "outputs": [],
   "source": [
    "import pymysql\n",
    "\n",
    "db_conn = pymysql.connect(\n",
    "        host='localhost', \n",
    "        port=3306, \n",
    "        user='dave', \n",
    "        passwd='funcoding', \n",
    "        db='blog_db', \n",
    "        charset='utf8')"
   ]
  },
  {
   "cell_type": "markdown",
   "metadata": {},
   "source": [
    "### 사용자 테이블\n",
    "- USER_ID 로 사용자 정보를 접근\n",
    "- USER_EMAIL 도 unique 해야 하지만 동일한 USER_EMAIL 은 입력 코드에서 체크하기로 함\n",
    "\n",
    "```sql\n",
    "CREATE TABLE user_info (\n",
    "    USER_ID INT UNSIGNED NOT NULL AUTO_INCREMENT,\n",
    "    USER_EMAIL VARCHAR(100) NOT NULL,\n",
    "    BLOG_ID CHAR(4),\n",
    "    PRIMARY KEY(USER_ID)\n",
    ");\n",
    "```"
   ]
  },
  {
   "cell_type": "markdown",
   "metadata": {},
   "source": [
    "### mysql 테스트\n",
    "\n",
    "> 실제 flask 코드에 넣어서 테스트할 경우, 테스트에 굉장한 시간 소요\n",
    "> 필요한 테스트는 주피터 노트북상에서 가능한 많이 한 후에, 최종 결과가 될 수 있는 코드만 flask 코드로 변환"
   ]
  },
  {
   "cell_type": "code",
   "execution_count": 10,
   "metadata": {},
   "outputs": [
    {
     "data": {
      "text/plain": [
       "<pymysql.cursors.Cursor at 0x7f9e2709b390>"
      ]
     },
     "execution_count": 10,
     "metadata": {},
     "output_type": "execute_result"
    }
   ],
   "source": [
    "import pymysql\n",
    "\n",
    "db_conn = pymysql.connect(\n",
    "        host='localhost', \n",
    "        port=3306, \n",
    "        user='dave', \n",
    "        passwd='funcoding', \n",
    "        db='blog_db', \n",
    "        charset='utf8')\n",
    "\n",
    "dave_db = db_conn.cursor()\n",
    "dave_db"
   ]
  },
  {
   "cell_type": "markdown",
   "metadata": {},
   "source": [
    "### 기존 테이블 수 확인하기"
   ]
  },
  {
   "cell_type": "code",
   "execution_count": 6,
   "metadata": {},
   "outputs": [
    {
     "data": {
      "text/plain": [
       "1"
      ]
     },
     "execution_count": 6,
     "metadata": {},
     "output_type": "execute_result"
    }
   ],
   "source": [
    "sql = 'SHOW TABLES;'\n",
    "dave_db.execute(sql)"
   ]
  },
  {
   "cell_type": "code",
   "execution_count": null,
   "metadata": {},
   "outputs": [],
   "source": [
    "sql = \"\"\"\n",
    "CREATE TABLE user_info (\n",
    "    USER_ID INT UNSIGNED NOT NULL AUTO_INCREMENT,\n",
    "    USER_EMAIL VARCHAR(100) NOT NULL,\n",
    "    BLOG_ID CHAR(4),\n",
    "    PRIMARY KEY(USER_ID)\n",
    ");\n",
    "\"\"\"\n",
    "dave_db.execute(sql)\n",
    "db_conn.commit() # 데이터베이스를 변경하는 명령은 commit() 해주기"
   ]
  },
  {
   "cell_type": "markdown",
   "metadata": {},
   "source": [
    "### 테이블 수 확인하기\n",
    "- 테이블 생성되었으므로 테이블 수가 1이어야 맞음"
   ]
  },
  {
   "cell_type": "code",
   "execution_count": 7,
   "metadata": {},
   "outputs": [
    {
     "data": {
      "text/plain": [
       "1"
      ]
     },
     "execution_count": 7,
     "metadata": {},
     "output_type": "execute_result"
    }
   ],
   "source": [
    "sql = 'SHOW TABLES;'\n",
    "dave_db.execute(sql)"
   ]
  },
  {
   "cell_type": "markdown",
   "metadata": {},
   "source": [
    "### 테이블 삭제하기"
   ]
  },
  {
   "cell_type": "code",
   "execution_count": 8,
   "metadata": {},
   "outputs": [],
   "source": [
    "sql = 'DROP TABLE user_info;'\n",
    "dave_db.execute(sql)\n",
    "db_conn.commit() # 데이터베이스를 변경하는 명령은 commit() 해주기"
   ]
  },
  {
   "cell_type": "markdown",
   "metadata": {},
   "source": [
    "### 테이블 수 확인하기\n",
    "- 테이블 생성되었으므로 테이블 수가 1이어야 맞음"
   ]
  },
  {
   "cell_type": "code",
   "execution_count": 9,
   "metadata": {},
   "outputs": [
    {
     "data": {
      "text/plain": [
       "0"
      ]
     },
     "execution_count": 9,
     "metadata": {},
     "output_type": "execute_result"
    }
   ],
   "source": [
    "sql = 'SHOW TABLES;'\n",
    "dave_db.execute(sql)"
   ]
  },
  {
   "cell_type": "markdown",
   "metadata": {},
   "source": [
    "### 테이블 재생성하기"
   ]
  },
  {
   "cell_type": "code",
   "execution_count": 10,
   "metadata": {},
   "outputs": [],
   "source": [
    "sql = \"\"\"\n",
    "CREATE TABLE user_info (\n",
    "    USER_ID INT UNSIGNED NOT NULL AUTO_INCREMENT,\n",
    "    USER_EMAIL VARCHAR(100) NOT NULL,\n",
    "    BLOG_ID CHAR(4),\n",
    "    PRIMARY KEY(USER_ID)\n",
    ");\n",
    "\"\"\"\n",
    "dave_db.execute(sql)\n",
    "db_conn.commit() # 데이터베이스를 변경하는 명령은 commit() 해주기"
   ]
  },
  {
   "cell_type": "markdown",
   "metadata": {},
   "source": [
    "### 테이블에 데이터 넣기"
   ]
  },
  {
   "cell_type": "code",
   "execution_count": 11,
   "metadata": {},
   "outputs": [],
   "source": [
    "user_email = 'test@test.com'\n",
    "blog_id = 'A'"
   ]
  },
  {
   "cell_type": "code",
   "execution_count": 12,
   "metadata": {},
   "outputs": [],
   "source": [
    "sql = \"INSERT INTO user_info (USER_EMAIL, BLOG_ID) VALUES ('%s', '%s')\" % (str(user_email), str(blog_id))\n",
    "dave_db.execute(sql)\n",
    "db_conn.commit() # 데이터베이스를 변경하는 명령은 commit() 해주기"
   ]
  },
  {
   "cell_type": "markdown",
   "metadata": {},
   "source": [
    "### 테이블 데이터 조회(SELECT)\n",
    "  - Cursor Object 가져오기: cursor = db.cursor()  \n",
    "  - SQL 실행하기: cursor.execute(SQL)\n",
    "  - mysql 서버로부터 데이터 가져오기: fetch 메서드 사용\n",
    "    - fetchall(): Fetch all the rows\n",
    "    - fetchmany(size=None): Fetch several rows\n",
    "    - fetchone(): Fetch the next row"
   ]
  },
  {
   "cell_type": "code",
   "execution_count": 11,
   "metadata": {},
   "outputs": [
    {
     "name": "stdout",
     "output_type": "stream",
     "text": [
      "(2, 'jhleeroot@gmail.com', 'A') <class 'tuple'>\n",
      "(3, 'dave@gmail.com', 'A') <class 'tuple'>\n",
      "(4, 'dream@fun-coding.org', 'A') <class 'tuple'>\n"
     ]
    }
   ],
   "source": [
    "sql = \"SELECT * FROM user_info\"\n",
    "dave_db.execute(sql)\n",
    "results = dave_db.fetchall()\n",
    "for result in results:\n",
    "    print (result, type(result))"
   ]
  },
  {
   "cell_type": "markdown",
   "metadata": {},
   "source": [
    "### USER_EMAIL 로 테이블 데이터 조회"
   ]
  },
  {
   "cell_type": "code",
   "execution_count": 2,
   "metadata": {},
   "outputs": [],
   "source": [
    "user_id = 1"
   ]
  },
  {
   "cell_type": "code",
   "execution_count": 5,
   "metadata": {},
   "outputs": [
    {
     "name": "stdout",
     "output_type": "stream",
     "text": [
      "0\n"
     ]
    }
   ],
   "source": [
    "sql = \"DELETE FROM user_info WHERE USER_ID = %d\" % (user_id)\n",
    "print(dave_db.execute(sql))\n",
    "db_conn.commit() # 데이터베이스를 변경하는 명령은 commit() 해주기"
   ]
  },
  {
   "cell_type": "markdown",
   "metadata": {},
   "source": [
    "### 데이터베이스 연결 해제"
   ]
  },
  {
   "cell_type": "code",
   "execution_count": 15,
   "metadata": {},
   "outputs": [],
   "source": [
    "db_conn.close()"
   ]
  },
  {
   "cell_type": "markdown",
   "metadata": {},
   "source": [
    "### 참고: 데이터베이스 데이터 삭제하기\n",
    "- 강좌 후반부 실제 구현시 관련 내용을 영상으로 보여드림"
   ]
  },
  {
   "cell_type": "code",
   "execution_count": 13,
   "metadata": {},
   "outputs": [
    {
     "data": {
      "text/plain": [
       "<pymysql.cursors.Cursor at 0x7f9e270a07d0>"
      ]
     },
     "execution_count": 13,
     "metadata": {},
     "output_type": "execute_result"
    }
   ],
   "source": [
    "import pymysql\n",
    "\n",
    "db_conn = pymysql.connect(\n",
    "        host='localhost', \n",
    "        port=3306, \n",
    "        user='dave', \n",
    "        passwd='funcoding', \n",
    "        db='blog_db', \n",
    "        charset='utf8')\n",
    "\n",
    "dave_db = db_conn.cursor()\n",
    "dave_db"
   ]
  },
  {
   "cell_type": "code",
   "execution_count": 17,
   "metadata": {},
   "outputs": [
    {
     "name": "stdout",
     "output_type": "stream",
     "text": [
      "(2, 'jhleeroot@gmail.com', 'A') <class 'tuple'>\n",
      "(3, 'dave@gmail.com', 'A') <class 'tuple'>\n"
     ]
    }
   ],
   "source": [
    "sql = \"SELECT * FROM user_info\"\n",
    "dave_db.execute(sql)\n",
    "results = dave_db.fetchall()\n",
    "for result in results:\n",
    "    print (result, type(result))"
   ]
  },
  {
   "cell_type": "code",
   "execution_count": 18,
   "metadata": {},
   "outputs": [],
   "source": [
    "user_id = 4"
   ]
  },
  {
   "cell_type": "code",
   "execution_count": 19,
   "metadata": {},
   "outputs": [
    {
     "name": "stdout",
     "output_type": "stream",
     "text": [
      "0\n"
     ]
    }
   ],
   "source": [
    "sql = \"DELETE FROM user_info WHERE USER_ID = %d\" % (user_id)\n",
    "print(dave_db.execute(sql))\n",
    "db_conn.commit() # 데이터베이스를 변경하는 명령은 commit() 해주기"
   ]
  },
  {
   "cell_type": "markdown",
   "metadata": {},
   "source": [
    "## 8.2. Mongodb 설치 \n",
    "- MAC 환경\n",
    "  - https://docs.mongodb.com/manual/tutorial/install-mongodb-on-os-x/\n",
    "  \n",
    "  ```\n",
    "  brew install mongodb-community\n",
    "  brew services start mongodb-community\n",
    "  ```\n",
    "  또는\n",
    "  ```\n",
    "  brew services restart mongodb-community\n",
    "  ```\n",
    "  \n",
    "- 윈도우 환경\n",
    "  - https://docs.mongodb.com/manual/tutorial/install-mongodb-on-windows/\n",
    "  \n",
    "> 윈도우 환경에서 설치 및 실행 방법은 mongodb 강의에서 해당 강좌는 무료로 오픈해놓았으니 수강하셔서 확인 가능"
   ]
  },
  {
   "cell_type": "markdown",
   "metadata": {},
   "source": [
    "### Mongodb 연결"
   ]
  },
  {
   "cell_type": "code",
   "execution_count": 1,
   "metadata": {},
   "outputs": [],
   "source": [
    "import pymongo\n",
    "\n",
    "username = ''\n",
    "password = ''\n",
    "ip_address = 'localhost'\n",
    "connection = pymongo.MongoClient()\n",
    "connection = pymongo.MongoClient('mongodb://%s' % (ip_address))\n",
    "# connection = pymongo.MongoClient('mongodb://%s:%s@%s' % (username, password, ip_address))\n",
    "blog_session_db = connection.blog_session_db\n",
    "blog_ab = blog_session_db.blog_ab"
   ]
  },
  {
   "cell_type": "markdown",
   "metadata": {},
   "source": [
    "### Mongodb 연결 확인\n",
    "- mongodb 연결을 한번 해놓으면, 이론적으로는 해당 객체를 사용, 몽고db CRUD 를 실행하면 됨\n",
    "- 하지만, 실제로는 mongodb 가 다양한 원인으로 다운되거나, 연결이 해제되는 경우가 있음\n",
    "  - 이 경우, 연결이 되어있음을 가정하고, CRUD를 실행할 경우 에러가 남\n",
    "- 따라서 연결된 객체가 아직 mongodb 에 연결이 되어있는지 체크하는 방법이 필요함\n",
    "  - 물론, 이 방법도 mongodb 가 아예 다운된 경우등을 체크하도록 코드를 더 정교하게 작성할 수도 있지만,\n",
    "  - 문제를 mongodb 는 다운되더라도 재기동된다고 가정하고, (docker 등 다른 시스템을 통해 해당 기능 활성화)\n",
    "  - 연결이 해제된 경우만 체크하는 기법을 사용 \n",
    "    - 특별한 방법이 없으므로, 가장 간단한 명령을 내려보는 방법으로 진행"
   ]
  },
  {
   "cell_type": "code",
   "execution_count": 20,
   "metadata": {},
   "outputs": [
    {
     "data": {
      "text/plain": [
       "{'ismaster': True,\n",
       " 'maxBsonObjectSize': 16777216,\n",
       " 'maxMessageSizeBytes': 48000000,\n",
       " 'maxWriteBatchSize': 100000,\n",
       " 'localTime': datetime.datetime(2020, 8, 15, 7, 25, 55, 594000),\n",
       " 'logicalSessionTimeoutMinutes': 30,\n",
       " 'connectionId': 61,\n",
       " 'minWireVersion': 0,\n",
       " 'maxWireVersion': 8,\n",
       " 'readOnly': False,\n",
       " 'ok': 1.0}"
      ]
     },
     "execution_count": 20,
     "metadata": {},
     "output_type": "execute_result"
    }
   ],
   "source": [
    "connection.admin.command('ismaster')"
   ]
  },
  {
   "cell_type": "code",
   "execution_count": 21,
   "metadata": {},
   "outputs": [
    {
     "data": {
      "text/plain": [
       "{'version': '4.2.8',\n",
       " 'gitVersion': '43d25964249164d76d5e04dd6cf38f6111e21f5f',\n",
       " 'modules': [],\n",
       " 'allocator': 'system',\n",
       " 'javascriptEngine': 'mozjs',\n",
       " 'sysInfo': 'deprecated',\n",
       " 'versionArray': [4, 2, 8, 0],\n",
       " 'openssl': {'running': 'Apple Secure Transport'},\n",
       " 'buildEnvironment': {'distmod': '',\n",
       "  'distarch': 'x86_64',\n",
       "  'cc': '/Applications/Xcode10.2.0.app/Contents/Developer/Toolchains/XcodeDefault.xctoolchain/usr/bin/clang: Apple LLVM version 10.0.1 (clang-1001.0.46.3)',\n",
       "  'ccflags': '-isysroot /Applications/Xcode10.2.0.app/Contents/Developer/Platforms/MacOSX.platform/Developer/SDKs/MacOSX10.14.sdk -mmacosx-version-min=10.12 -target darwin16.0.0 -arch x86_64 -fno-omit-frame-pointer -fno-strict-aliasing -ggdb -pthread -Wall -Wsign-compare -Wno-unknown-pragmas -Winvalid-pch -Werror -O2 -Wno-unused-local-typedefs -Wno-unused-function -Wno-unused-private-field -Wno-deprecated-declarations -Wno-tautological-constant-out-of-range-compare -Wno-tautological-constant-compare -Wno-tautological-unsigned-zero-compare -Wno-tautological-unsigned-enum-zero-compare -Wno-unused-const-variable -Wno-missing-braces -Wno-inconsistent-missing-override -Wno-potentially-evaluated-expression -Wno-unused-lambda-capture -Wno-exceptions -Wunguarded-availability -fstack-protector-strong -fno-builtin-memcmp',\n",
       "  'cxx': '/Applications/Xcode10.2.0.app/Contents/Developer/Toolchains/XcodeDefault.xctoolchain/usr/bin/clang++: Apple LLVM version 10.0.1 (clang-1001.0.46.3)',\n",
       "  'cxxflags': '-Woverloaded-virtual -Werror=unused-result -Wpessimizing-move -Wredundant-move -Wno-undefined-var-template -Wno-instantiation-after-specialization -fsized-deallocation -stdlib=libc++ -std=c++17',\n",
       "  'linkflags': '-Wl,-syslibroot,/Applications/Xcode10.2.0.app/Contents/Developer/Platforms/MacOSX.platform/Developer/SDKs/MacOSX10.14.sdk -mmacosx-version-min=10.12 -target darwin16.0.0 -arch x86_64 -Wl,-bind_at_load -Wl,-fatal_warnings -fstack-protector-strong -stdlib=libc++',\n",
       "  'target_arch': 'x86_64',\n",
       "  'target_os': 'macOS'},\n",
       " 'bits': 64,\n",
       " 'debug': False,\n",
       " 'maxBsonObjectSize': 16777216,\n",
       " 'storageEngines': ['biggie', 'devnull', 'ephemeralForTest', 'wiredTiger'],\n",
       " 'ok': 1.0}"
      ]
     },
     "execution_count": 21,
     "metadata": {},
     "output_type": "execute_result"
    }
   ],
   "source": [
    "connection.server_info()"
   ]
  },
  {
   "cell_type": "markdown",
   "metadata": {},
   "source": [
    "### INSERT"
   ]
  },
  {
   "cell_type": "code",
   "execution_count": 22,
   "metadata": {},
   "outputs": [
    {
     "data": {
      "text/plain": [
       "<pymongo.results.InsertOneResult at 0x7f9a8e32d960>"
      ]
     },
     "execution_count": 22,
     "metadata": {},
     "output_type": "execute_result"
    }
   ],
   "source": [
    "blog_ab.insert_one({'emailid':'jhleeroot@gmail.com'})"
   ]
  },
  {
   "cell_type": "markdown",
   "metadata": {},
   "source": [
    "### SELECT"
   ]
  },
  {
   "cell_type": "code",
   "execution_count": 23,
   "metadata": {},
   "outputs": [
    {
     "data": {
      "text/plain": [
       "{'_id': ObjectId('5f34e53a2171fe53b403d027'), 'emailid': 'jhleeroot@gmail.com'}"
      ]
     },
     "execution_count": 23,
     "metadata": {},
     "output_type": "execute_result"
    }
   ],
   "source": [
    "blog_ab.find_one( {'emailid':'jhleeroot@gmail.com'} )"
   ]
  },
  {
   "cell_type": "markdown",
   "metadata": {},
   "source": [
    "### DELETE"
   ]
  },
  {
   "cell_type": "code",
   "execution_count": 24,
   "metadata": {},
   "outputs": [
    {
     "data": {
      "text/plain": [
       "<pymongo.results.DeleteResult at 0x7f9a8e365b40>"
      ]
     },
     "execution_count": 24,
     "metadata": {},
     "output_type": "execute_result"
    }
   ],
   "source": [
    "blog_ab.delete_one( {'emailid':'jhleeroot@gmail.com'} )"
   ]
  },
  {
   "cell_type": "markdown",
   "metadata": {},
   "source": [
    "### SELECT *"
   ]
  },
  {
   "cell_type": "code",
   "execution_count": 3,
   "metadata": {},
   "outputs": [
    {
     "name": "stdout",
     "output_type": "stream",
     "text": [
      "{'_id': ObjectId('5f36362bd30e2ec7d748d6e9'), 'session_ip': '127.0.0.1', 'user_email': 'anonymous', 'access_time': '14/08/2020 15:58:51'}\n",
      "{'_id': ObjectId('5f36362bd30e2ec7d748d6eb'), 'session_ip': '127.0.0.1', 'user_email': 'anonymous', 'access_time': '14/08/2020 15:58:51'}\n",
      "{'_id': ObjectId('5f363660d30e2ec7d748d6ed'), 'session_ip': '127.0.0.1', 'user_email': 'anonymous', 'access_time': '14/08/2020 15:59:44'}\n",
      "{'_id': ObjectId('5f36366dd30e2ec7d748d6ef'), 'session_ip': '127.0.0.1', 'user_email': 'jhleeroot@gmail.com', 'access_time': '14/08/2020 15:59:57'}\n",
      "{'_id': ObjectId('5f36372b043800e068a3edb9'), 'session_ip': '127.0.0.1', 'user_email': 'anonymous', 'page': 'blog_A.html', 'access_time': '14/08/2020 16:03:07'}\n",
      "{'_id': ObjectId('5f36372f043800e068a3edbb'), 'session_ip': '127.0.0.1', 'user_email': 'jhleeroot@gmail.com', 'page': 'blog_A.html', 'access_time': '14/08/2020 16:03:11'}\n",
      "{'_id': ObjectId('5f363734043800e068a3edbd'), 'session_ip': '127.0.0.1', 'user_email': 'jhleeroot@gmail.com', 'page': 'blog_A.html', 'access_time': '14/08/2020 16:03:16'}\n",
      "{'_id': ObjectId('5f363cddcffa954628adc169'), 'session_ip': '127.0.0.1', 'user_email': 'anonymous', 'page': 'blog_A.html', 'access_time': '14/08/2020 16:27:25'}\n",
      "{'_id': ObjectId('5f37632d4c602baac5341f2c'), 'session_ip': '127.0.0.1', 'user_email': 'anonymous', 'page': 'blog_A.html', 'access_time': '15/08/2020 13:23:09'}\n",
      "{'_id': ObjectId('5f37632f4c602baac5341f2e'), 'session_ip': '127.0.0.1', 'user_email': 'anonymous', 'page': 'blog_B.html', 'access_time': '15/08/2020 13:23:11'}\n",
      "{'_id': ObjectId('5f3763334c602baac5341f30'), 'session_ip': '127.0.0.1', 'user_email': 'anonymous', 'page': 'blog_A.html', 'access_time': '15/08/2020 13:23:15'}\n",
      "{'_id': ObjectId('5f3763344c602baac5341f32'), 'session_ip': '127.0.0.1', 'user_email': 'anonymous', 'page': 'blog_B.html', 'access_time': '15/08/2020 13:23:16'}\n",
      "{'_id': ObjectId('5f3763354c602baac5341f34'), 'session_ip': '127.0.0.1', 'user_email': 'anonymous', 'page': 'blog_A.html', 'access_time': '15/08/2020 13:23:17'}\n",
      "{'_id': ObjectId('5f3763374c602baac5341f36'), 'session_ip': '127.0.0.1', 'user_email': 'anonymous', 'page': 'blog_B.html', 'access_time': '15/08/2020 13:23:19'}\n",
      "{'_id': ObjectId('5f3763384c602baac5341f38'), 'session_ip': '127.0.0.1', 'user_email': 'anonymous', 'page': 'blog_A.html', 'access_time': '15/08/2020 13:23:20'}\n",
      "{'_id': ObjectId('5f3763394c602baac5341f3a'), 'session_ip': '127.0.0.1', 'user_email': 'anonymous', 'page': 'blog_B.html', 'access_time': '15/08/2020 13:23:21'}\n",
      "{'_id': ObjectId('5f3763394c602baac5341f3c'), 'session_ip': '127.0.0.1', 'user_email': 'anonymous', 'page': 'blog_A.html', 'access_time': '15/08/2020 13:23:21'}\n",
      "{'_id': ObjectId('5f37633b4c602baac5341f3e'), 'session_ip': '127.0.0.1', 'user_email': 'anonymous', 'page': 'blog_B.html', 'access_time': '15/08/2020 13:23:23'}\n",
      "{'_id': ObjectId('5f376365e920969e033c591e'), 'session_ip': '127.0.0.1', 'user_email': 'anonymous', 'page': 'blog_A.html', 'access_time': '15/08/2020 13:24:05'}\n",
      "{'_id': ObjectId('5f376365e920969e033c5920'), 'session_ip': '127.0.0.1', 'user_email': 'anonymous', 'page': 'blog_B.html', 'access_time': '15/08/2020 13:24:05'}\n",
      "{'_id': ObjectId('5f376366e920969e033c5922'), 'session_ip': '127.0.0.1', 'user_email': 'anonymous', 'page': 'blog_A.html', 'access_time': '15/08/2020 13:24:06'}\n",
      "{'_id': ObjectId('5f376369e920969e033c5924'), 'session_ip': '127.0.0.1', 'user_email': 'jhleeroot@gmail.com', 'page': 'blog_A.html', 'access_time': '15/08/2020 13:24:09'}\n",
      "{'_id': ObjectId('5f37636ae920969e033c5926'), 'session_ip': '127.0.0.1', 'user_email': 'jhleeroot@gmail.com', 'page': 'blog_A.html', 'access_time': '15/08/2020 13:24:10'}\n",
      "{'_id': ObjectId('5f37636be920969e033c5928'), 'session_ip': '127.0.0.1', 'user_email': 'jhleeroot@gmail.com', 'page': 'blog_A.html', 'access_time': '15/08/2020 13:24:11'}\n",
      "{'_id': ObjectId('5f376375e920969e033c592a'), 'session_ip': '127.0.0.1', 'user_email': 'jhleeroot@gmail.com', 'page': 'blog_A.html', 'access_time': '15/08/2020 13:24:21'}\n",
      "{'_id': ObjectId('5f376376e920969e033c592c'), 'session_ip': '127.0.0.1', 'user_email': 'jhleeroot@gmail.com', 'page': 'blog_A.html', 'access_time': '15/08/2020 13:24:22'}\n",
      "{'_id': ObjectId('5f3765f8d2ad6b71e5970b2f'), 'session_ip': '127.0.0.1', 'user_email': 'anonymous', 'page': 'blog_A.html', 'access_time': '15/08/2020 13:35:04'}\n",
      "{'_id': ObjectId('5f3765fbd2ad6b71e5970b31'), 'session_ip': '127.0.0.1', 'user_email': 'anonymous', 'page': 'blog_B.html', 'access_time': '15/08/2020 13:35:07'}\n",
      "{'_id': ObjectId('5f376619d2ad6b71e5970b33'), 'session_ip': '127.0.0.1', 'user_email': 'anonymous', 'page': 'blog_A.html', 'access_time': '15/08/2020 13:35:37'}\n",
      "{'_id': ObjectId('5f376641d2ad6b71e5970b35'), 'session_ip': '127.0.0.1', 'user_email': 'anonymous', 'page': 'blog_B.html', 'access_time': '15/08/2020 13:36:17'}\n",
      "{'_id': ObjectId('5f376649d2ad6b71e5970b37'), 'session_ip': '127.0.0.1', 'user_email': 'anonymous', 'page': 'blog_A.html', 'access_time': '15/08/2020 13:36:25'}\n",
      "{'_id': ObjectId('5f376668d2ad6b71e5970b39'), 'session_ip': '127.0.0.1', 'user_email': 'jhleeroot@gmail.com', 'page': 'blog_A.html', 'access_time': '15/08/2020 13:36:56'}\n",
      "{'_id': ObjectId('5f376673d2ad6b71e5970b3b'), 'session_ip': '127.0.0.1', 'user_email': 'jhleeroot@gmail.com', 'page': 'blog_A.html', 'access_time': '15/08/2020 13:37:07'}\n",
      "{'_id': ObjectId('5f376692d2ad6b71e5970b3d'), 'session_ip': '127.0.0.1', 'user_email': 'jhleeroot@gmail.com', 'page': 'blog_A.html', 'access_time': '15/08/2020 13:37:38'}\n",
      "{'_id': ObjectId('5f378e22b0f391a391291cc5'), 'emailid': 'jhleeroot@gmail.com'}\n",
      "{'_id': ObjectId('5f3790b127142a0c16f9e0c9'), 'session_ip': '127.0.0.1', 'user_email': 'anonymous', 'page': 'blog_A.html', 'access_time': '15/08/2020 16:37:21'}\n",
      "{'_id': ObjectId('5f3790b327142a0c16f9e0cb'), 'session_ip': '127.0.0.1', 'user_email': 'anonymous', 'page': 'blog_B.html', 'access_time': '15/08/2020 16:37:23'}\n",
      "{'_id': ObjectId('5f3790c927142a0c16f9e0cd'), 'session_ip': '127.0.0.1', 'user_email': 'jhleeroot@gmail.com', 'page': 'blog_A.html', 'access_time': '15/08/2020 16:37:45'}\n",
      "{'_id': ObjectId('5f3795122eca64cf5477d2a4'), 'session_ip': '127.0.0.1', 'user_email': 'anonymous', 'page': 'blog_A.html', 'access_time': '15/08/2020 16:56:02'}\n",
      "{'_id': ObjectId('5f3795162eca64cf5477d2a6'), 'session_ip': '127.0.0.1', 'user_email': 'anonymous', 'page': 'blog_B.html', 'access_time': '15/08/2020 16:56:06'}\n",
      "{'_id': ObjectId('5f37963d2eca64cf5477d2a8'), 'session_ip': '127.0.0.1', 'user_email': 'dave@gmail.com', 'page': 'blog_A.html', 'access_time': '15/08/2020 17:01:01'}\n",
      "{'_id': ObjectId('5f37969d2eca64cf5477d2aa'), 'session_ip': '127.0.0.1', 'user_email': 'dave@gmail.com', 'page': 'blog_A.html', 'access_time': '15/08/2020 17:02:37'}\n",
      "{'_id': ObjectId('5f379ceddcebda5dc50bc5ff'), 'session_ip': '127.0.0.1', 'user_email': 'anonymous', 'page': 'blog_A.html', 'access_time': '15/08/2020 17:29:33'}\n",
      "{'_id': ObjectId('5f379cf1dcebda5dc50bc601'), 'session_ip': '127.0.0.1', 'user_email': 'dave@gmail.com', 'page': 'blog_A.html', 'access_time': '15/08/2020 17:29:37'}\n",
      "{'_id': ObjectId('5f379cfe42d06e6eea66e3f2'), 'session_ip': '127.0.0.1', 'user_email': 'dave@gmail.com', 'page': 'blog_A.html', 'access_time': '15/08/2020 17:29:50'}\n",
      "{'_id': ObjectId('5f379cff42d06e6eea66e3f4'), 'session_ip': '127.0.0.1', 'user_email': 'dave@gmail.com', 'page': 'blog_A.html', 'access_time': '15/08/2020 17:29:51'}\n",
      "{'_id': ObjectId('5f379d21968b9888985d3f74'), 'session_ip': '127.0.0.1', 'user_email': 'anonymous', 'page': 'blog_A.html', 'access_time': '15/08/2020 17:30:25'}\n",
      "{'_id': ObjectId('5f379d25968b9888985d3f76'), 'session_ip': '127.0.0.1', 'user_email': 'dave@gmail.com', 'page': 'blog_A.html', 'access_time': '15/08/2020 17:30:29'}\n",
      "{'_id': ObjectId('5f379d339c299e2cd3279ecb'), 'session_ip': '127.0.0.1', 'user_email': 'anonymous', 'page': 'blog_A.html', 'access_time': '15/08/2020 17:30:43'}\n",
      "{'_id': ObjectId('5f379d5dc96379d42af666ee'), 'session_ip': '127.0.0.1', 'user_email': 'anonymous', 'page': 'blog_A.html', 'access_time': '15/08/2020 17:31:25'}\n",
      "{'_id': ObjectId('5f379d60c96379d42af666f0'), 'session_ip': '127.0.0.1', 'user_email': 'dave@gmail.com', 'page': 'blog_A.html', 'access_time': '15/08/2020 17:31:28'}\n",
      "{'_id': ObjectId('5f379d693294dbc555bbe741'), 'session_ip': '127.0.0.1', 'user_email': 'dave@gmail.com', 'page': 'blog_A.html', 'access_time': '15/08/2020 17:31:37'}\n",
      "{'_id': ObjectId('5f379f09f7377e47140f4486'), 'session_ip': '127.0.0.1', 'user_email': 'dave@gmail.com', 'page': 'blog_A.html', 'access_time': '15/08/2020 17:38:33'}\n",
      "{'_id': ObjectId('5f379f3554325706bcb76545'), 'session_ip': '127.0.0.1', 'user_email': 'anonymous', 'page': 'blog_A.html', 'access_time': '15/08/2020 17:39:17'}\n",
      "{'_id': ObjectId('5f379f3654325706bcb76547'), 'session_ip': '127.0.0.1', 'user_email': 'anonymous', 'page': 'blog_B.html', 'access_time': '15/08/2020 17:39:18'}\n",
      "{'_id': ObjectId('5f37a07ee470163669d97fd0'), 'session_ip': '127.0.0.1', 'user_email': 'anonymous', 'page': 'blog_A.html', 'access_time': '15/08/2020 17:44:46'}\n",
      "{'_id': ObjectId('5f37a082e470163669d97fd2'), 'session_ip': '127.0.0.1', 'user_email': 'dave@gmail.com', 'page': 'blog_A.html', 'access_time': '15/08/2020 17:44:50'}\n",
      "{'_id': ObjectId('5f38d3011f03a27627a61de8'), 'session_ip': '127.0.0.1', 'user_email': 'anonymous', 'page': 'blog_A.html', 'access_time': '16/08/2020 15:32:33'}\n",
      "{'_id': ObjectId('5f38d3051f03a27627a61dea'), 'session_ip': '127.0.0.1', 'user_email': 'anonymous', 'page': 'blog_B.html', 'access_time': '16/08/2020 15:32:37'}\n",
      "{'_id': ObjectId('5f38d30d1f03a27627a61dec'), 'session_ip': '127.0.0.1', 'user_email': 'anonymous', 'page': 'blog_A.html', 'access_time': '16/08/2020 15:32:45'}\n",
      "{'_id': ObjectId('5f38d404fa835e2a15457254'), 'session_ip': '127.0.0.1', 'user_email': 'anonymous', 'page': 'blog_A.html', 'access_time': '16/08/2020 15:36:52'}\n",
      "{'_id': ObjectId('5f38d407fa835e2a15457256'), 'session_ip': '127.0.0.1', 'user_email': 'anonymous', 'page': 'blog_B.html', 'access_time': '16/08/2020 15:36:55'}\n",
      "{'_id': ObjectId('5f38d40dfa835e2a15457258'), 'session_ip': '127.0.0.1', 'user_email': 'dave@gmail.com', 'page': 'blog_A.html', 'access_time': '16/08/2020 15:37:01'}\n",
      "{'_id': ObjectId('5f38d40efa835e2a1545725a'), 'session_ip': '127.0.0.1', 'user_email': 'dave@gmail.com', 'page': 'blog_A.html', 'access_time': '16/08/2020 15:37:02'}\n",
      "{'_id': ObjectId('5f38d40ffa835e2a1545725c'), 'session_ip': '127.0.0.1', 'user_email': 'dave@gmail.com', 'page': 'blog_A.html', 'access_time': '16/08/2020 15:37:03'}\n",
      "{'_id': ObjectId('5f38d40ffa835e2a1545725e'), 'session_ip': '127.0.0.1', 'user_email': 'dave@gmail.com', 'page': 'blog_A.html', 'access_time': '16/08/2020 15:37:03'}\n",
      "{'_id': ObjectId('5f38d410fa835e2a15457260'), 'session_ip': '127.0.0.1', 'user_email': 'dave@gmail.com', 'page': 'blog_A.html', 'access_time': '16/08/2020 15:37:04'}\n",
      "{'_id': ObjectId('5f38defa34213b984bbcbc6f'), 'session_ip': '127.0.0.1', 'user_email': 'dave@gmail.com', 'page': 'blog_A.html', 'access_time': '16/08/2020 16:23:38'}\n",
      "{'_id': ObjectId('5f38e434704a2b25147ce925'), 'session_ip': '127.0.0.1', 'user_email': 'dave@gmail.com', 'page': 'blog_A.html', 'access_time': '16/08/2020 16:45:56'}\n",
      "{'_id': ObjectId('5f38e434704a2b25147ce927'), 'session_ip': '127.0.0.1', 'user_email': 'dave@gmail.com', 'page': 'blog_A.html', 'access_time': '16/08/2020 16:45:56'}\n",
      "{'_id': ObjectId('5f38e9c8d2ec0435489632c7'), 'session_ip': '127.0.0.1', 'user_email': 'anonymous', 'page': 'blog_A.html', 'access_time': '16/08/2020 17:09:44'}\n",
      "{'_id': ObjectId('5f39e30a4353de02944bc5e6'), 'session_ip': '192.168.35.190', 'user_email': 'anonymous', 'page': 'blog_A.html', 'access_time': '17/08/2020 10:53:14'}\n",
      "{'_id': ObjectId('5f39e3144353de02944bc5e8'), 'session_ip': '192.168.35.84', 'user_email': 'anonymous', 'page': 'blog_B.html', 'access_time': '17/08/2020 10:53:24'}\n",
      "{'_id': ObjectId('5f39e3184353de02944bc5ea'), 'session_ip': '192.168.35.84', 'user_email': 'dream@fun-coding.org', 'page': 'blog_A.html', 'access_time': '17/08/2020 10:53:28'}\n",
      "{'_id': ObjectId('5f39e31e4353de02944bc5ec'), 'session_ip': '192.168.35.190', 'user_email': 'jhleeroot@gmail.com', 'page': 'blog_A.html', 'access_time': '17/08/2020 10:53:34'}\n",
      "{'_id': ObjectId('5f39e3214353de02944bc5ee'), 'session_ip': '192.168.35.190', 'user_email': 'jhleeroot@gmail.com', 'page': 'blog_A.html', 'access_time': '17/08/2020 10:53:37'}\n",
      "{'_id': ObjectId('5f39e3224353de02944bc5f0'), 'session_ip': '192.168.35.84', 'user_email': 'dream@fun-coding.org', 'page': 'blog_A.html', 'access_time': '17/08/2020 10:53:38'}\n",
      "{'_id': ObjectId('5f3a3218de04be4c3f1ea802'), 'session_ip': '127.0.0.1', 'user_email': 'anonymous', 'page': 'blog_A.html', 'access_time': '17/08/2020 16:30:32'}\n",
      "{'_id': ObjectId('5f3a3219de04be4c3f1ea804'), 'session_ip': '127.0.0.1', 'user_email': 'anonymous', 'page': 'blog_B.html', 'access_time': '17/08/2020 16:30:33'}\n",
      "{'_id': ObjectId('5f3a321dde04be4c3f1ea806'), 'session_ip': '127.0.0.1', 'user_email': 'dave@gmail.com', 'page': 'blog_A.html', 'access_time': '17/08/2020 16:30:37'}\n",
      "{'_id': ObjectId('5f3a322ade04be4c3f1ea808'), 'session_ip': '127.0.0.1', 'user_email': 'dave@gmail.com', 'page': 'blog_A.html', 'access_time': '17/08/2020 16:30:50'}\n",
      "{'_id': ObjectId('5f3a3245de04be4c3f1ea80a'), 'session_ip': '127.0.0.1', 'user_email': 'anonymous', 'page': 'blog_A.html', 'access_time': '17/08/2020 16:31:17'}\n",
      "{'_id': ObjectId('5f3a324ede04be4c3f1ea80c'), 'session_ip': '127.0.0.1', 'user_email': 'dave@gmail.com', 'page': 'blog_A.html', 'access_time': '17/08/2020 16:31:26'}\n",
      "{'_id': ObjectId('5f3a3258de04be4c3f1ea80e'), 'session_ip': '127.0.0.1', 'user_email': 'dave@gmail.com', 'page': 'blog_A.html', 'access_time': '17/08/2020 16:31:36'}\n",
      "{'_id': ObjectId('5f3a3266de04be4c3f1ea810'), 'session_ip': '127.0.0.1', 'user_email': 'anonymous', 'page': 'blog_B.html', 'access_time': '17/08/2020 16:31:50'}\n",
      "{'_id': ObjectId('5f3a3267de04be4c3f1ea812'), 'session_ip': '127.0.0.1', 'user_email': 'anonymous', 'page': 'blog_A.html', 'access_time': '17/08/2020 16:31:51'}\n",
      "{'_id': ObjectId('5f3a326ade04be4c3f1ea814'), 'session_ip': '127.0.0.1', 'user_email': 'dave@gmail.com', 'page': 'blog_A.html', 'access_time': '17/08/2020 16:31:54'}\n",
      "{'_id': ObjectId('5f3a32a260f3aa42ffa76598'), 'session_ip': '127.0.0.1', 'user_email': 'anonymous', 'page': 'blog_A.html', 'access_time': '17/08/2020 16:32:50'}\n",
      "{'_id': ObjectId('5f3a32a360f3aa42ffa7659a'), 'session_ip': '127.0.0.1', 'user_email': 'anonymous', 'page': 'blog_B.html', 'access_time': '17/08/2020 16:32:51'}\n",
      "{'_id': ObjectId('5f3a32a660f3aa42ffa7659c'), 'session_ip': '127.0.0.1', 'user_email': 'dave@gmail.com', 'page': 'blog_A.html', 'access_time': '17/08/2020 16:32:54'}\n",
      "{'_id': ObjectId('5f3a32b660f3aa42ffa7659e'), 'session_ip': '127.0.0.1', 'user_email': 'anonymous', 'page': 'blog_A.html', 'access_time': '17/08/2020 16:33:10'}\n",
      "{'_id': ObjectId('5f3a32c8f6fe4fb8a93d1573'), 'session_ip': '127.0.0.1', 'user_email': 'dave@gmail.com', 'page': 'blog_A.html', 'access_time': '17/08/2020 16:33:28'}\n",
      "{'_id': ObjectId('5f3a32d3f6fe4fb8a93d1575'), 'session_ip': '127.0.0.1', 'user_email': 'anonymous', 'page': 'blog_A.html', 'access_time': '17/08/2020 16:33:39'}\n",
      "{'_id': ObjectId('5f3a32d5f6fe4fb8a93d1577'), 'session_ip': '127.0.0.1', 'user_email': 'anonymous', 'page': 'blog_B.html', 'access_time': '17/08/2020 16:33:41'}\n",
      "{'_id': ObjectId('5f3a3388b824ad43bd0a5ae6'), 'session_ip': '127.0.0.1', 'user_email': 'anonymous', 'page': 'blog_A.html', 'access_time': '17/08/2020 16:36:40'}\n",
      "{'_id': ObjectId('5f3a338cb824ad43bd0a5ae8'), 'session_ip': '127.0.0.1', 'user_email': 'dave@gmail.com', 'page': 'blog_A.html', 'access_time': '17/08/2020 16:36:44'}\n",
      "{'_id': ObjectId('5f3a3391b824ad43bd0a5aea'), 'session_ip': '127.0.0.1', 'user_email': 'dave@gmail.com', 'page': 'blog_A.html', 'access_time': '17/08/2020 16:36:49'}\n",
      "{'_id': ObjectId('5f3a3391b824ad43bd0a5aec'), 'session_ip': '127.0.0.1', 'user_email': 'dave@gmail.com', 'page': 'blog_A.html', 'access_time': '17/08/2020 16:36:49'}\n",
      "{'_id': ObjectId('5f3a339ab824ad43bd0a5aee'), 'session_ip': '127.0.0.1', 'user_email': 'dave@gmail.com', 'page': 'blog_A.html', 'access_time': '17/08/2020 16:36:58'}\n",
      "{'_id': ObjectId('5f3a3f197945cba084d7078d'), 'session_ip': '127.0.0.1', 'user_email': 'anonymous', 'page': 'blog_A.html', 'access_time': '17/08/2020 17:26:01'}\n",
      "{'_id': ObjectId('5f3a3f197945cba084d7078f'), 'session_ip': '127.0.0.1', 'user_email': 'anonymous', 'page': 'blog_B.html', 'access_time': '17/08/2020 17:26:01'}\n",
      "{'_id': ObjectId('5f3a3f1e7945cba084d70791'), 'session_ip': '127.0.0.1', 'user_email': 'kkk@kkk.com', 'page': 'blog_A.html', 'access_time': '17/08/2020 17:26:06'}\n",
      "{'_id': ObjectId('5f3a3f47554010887967b925'), 'session_ip': '127.0.0.1', 'user_email': 'kkk@kkk.com', 'page': 'blog_A.html', 'access_time': '17/08/2020 17:26:47'}\n",
      "{'_id': ObjectId('5f3a3f65b730ad4daa643ece'), 'session_ip': '127.0.0.1', 'user_email': 'anonymous', 'page': 'blog_A.html', 'access_time': '17/08/2020 17:27:17'}\n",
      "{'_id': ObjectId('5f3a3f66b730ad4daa643ed0'), 'session_ip': '127.0.0.1', 'user_email': 'anonymous', 'page': 'blog_B.html', 'access_time': '17/08/2020 17:27:18'}\n",
      "{'_id': ObjectId('5f3a3f6fb730ad4daa643ed2'), 'session_ip': '127.0.0.1', 'user_email': 'korea@korea.com', 'page': 'blog_A.html', 'access_time': '17/08/2020 17:27:27'}\n",
      "{'_id': ObjectId('5f3a3f8a77b01dbfa041099a'), 'session_ip': '127.0.0.1', 'user_email': 'anonymous', 'page': 'blog_A.html', 'access_time': '17/08/2020 17:27:54'}\n",
      "{'_id': ObjectId('5f3a3f8c77b01dbfa041099c'), 'session_ip': '127.0.0.1', 'user_email': 'anonymous', 'page': 'blog_B.html', 'access_time': '17/08/2020 17:27:56'}\n",
      "{'_id': ObjectId('5f3a3f9277b01dbfa041099e'), 'session_ip': '127.0.0.1', 'user_email': 'eee@eee.com', 'page': 'blog_A.html', 'access_time': '17/08/2020 17:28:02'}\n",
      "{'_id': ObjectId('5f3a3f9477b01dbfa04109a0'), 'session_ip': '127.0.0.1', 'user_email': 'anonymous', 'page': 'blog_A.html', 'access_time': '17/08/2020 17:28:04'}\n",
      "{'_id': ObjectId('5f3a48d1f06f511c40484472'), 'session_ip': '127.0.0.1', 'user_email': 'anonymous', 'page': 'blog_A.html', 'access_time': '17/08/2020 18:07:29'}\n",
      "{'_id': ObjectId('5f3a48d3f06f511c40484474'), 'session_ip': '127.0.0.1', 'user_email': 'anonymous', 'page': 'blog_B.html', 'access_time': '17/08/2020 18:07:31'}\n",
      "{'_id': ObjectId('5f3a48d5f06f511c40484476'), 'session_ip': '127.0.0.1', 'user_email': 'anonymous', 'page': 'blog_A.html', 'access_time': '17/08/2020 18:07:33'}\n",
      "{'_id': ObjectId('5f3b3ed84b108b3db28fb55e'), 'session_ip': '127.0.0.1', 'user_email': 'anonymous', 'page': 'blog_A.html', 'access_time': '18/08/2020 11:37:12'}\n",
      "{'_id': ObjectId('5f3b3f273445b86ba754e8a5'), 'session_ip': '127.0.0.1', 'user_email': 'anonymous', 'page': 'blog_A.html', 'access_time': '18/08/2020 11:38:31'}\n",
      "{'_id': ObjectId('5f3b3f2b3445b86ba754e8a7'), 'session_ip': '127.0.0.1', 'user_email': 'anonymous', 'page': 'blog_B.html', 'access_time': '18/08/2020 11:38:35'}\n",
      "{'_id': ObjectId('5f3b3f2c3445b86ba754e8a9'), 'session_ip': '127.0.0.1', 'user_email': 'anonymous', 'page': 'blog_A.html', 'access_time': '18/08/2020 11:38:36'}\n",
      "{'_id': ObjectId('5f3b3f2e3445b86ba754e8ab'), 'session_ip': '127.0.0.1', 'user_email': 'anonymous', 'page': 'blog_B.html', 'access_time': '18/08/2020 11:38:38'}\n",
      "{'_id': ObjectId('5f3b3f363445b86ba754e8ad'), 'session_ip': '127.0.0.1', 'user_email': 'anonymous', 'page': 'blog_A.html', 'access_time': '18/08/2020 11:38:46'}\n",
      "{'_id': ObjectId('5f3b3fd75ce16e9db0abbfb2'), 'session_ip': '127.0.0.1', 'user_email': 'anonymous', 'page': 'blog_A.html', 'access_time': '18/08/2020 11:41:27'}\n",
      "{'_id': ObjectId('5f3b3fd95ce16e9db0abbfb4'), 'session_ip': '127.0.0.1', 'user_email': 'anonymous', 'page': 'blog_B.html', 'access_time': '18/08/2020 11:41:29'}\n",
      "{'_id': ObjectId('5f3b414e1288cd63c98cf1f8'), 'session_ip': '127.0.0.1', 'user_email': 'anonymous', 'page': 'blog_A.html', 'access_time': '18/08/2020 11:47:42'}\n",
      "{'_id': ObjectId('5f3b4214693bdf55ebdc4f5c'), 'session_ip': '127.0.0.1', 'user_email': 'anonymous', 'page': 'blog_B.html', 'access_time': '18/08/2020 11:51:00'}\n",
      "{'_id': ObjectId('5f3b4318a987a7fc03d150d3'), 'session_ip': '127.0.0.1', 'user_email': 'anonymous', 'page': 'blog_A.html', 'access_time': '18/08/2020 11:55:20'}\n",
      "{'_id': ObjectId('5f3b431fa987a7fc03d150d5'), 'session_ip': '127.0.0.1', 'user_email': 'ggg@kkk.com', 'page': 'blog_A.html', 'access_time': '18/08/2020 11:55:27'}\n",
      "{'_id': ObjectId('5f3b4323a987a7fc03d150d7'), 'session_ip': '127.0.0.1', 'user_email': 'ggg@kkk.com', 'page': 'blog_A.html', 'access_time': '18/08/2020 11:55:31'}\n",
      "{'_id': ObjectId('5f3b4328a987a7fc03d150d9'), 'session_ip': '127.0.0.1', 'user_email': 'ggg@kkk.com', 'page': 'blog_A.html', 'access_time': '18/08/2020 11:55:36'}\n",
      "{'_id': ObjectId('5f3b4740775f63b2838feb0c'), 'session_ip': '127.0.0.1', 'user_email': 'anonymous', 'page': 'blog_A.html', 'access_time': '18/08/2020 12:13:04'}\n",
      "{'_id': ObjectId('5f3b4748775f63b2838feb0e'), 'session_ip': '127.0.0.1', 'user_email': 'dave@gmail.com', 'page': 'blog_A.html', 'access_time': '18/08/2020 12:13:12'}\n"
     ]
    }
   ],
   "source": [
    "blog_logs = blog_ab.find()\n",
    "for log in blog_logs:\n",
    "    print(log)"
   ]
  },
  {
   "cell_type": "code",
   "execution_count": null,
   "metadata": {},
   "outputs": [],
   "source": []
  }
 ],
 "metadata": {
  "kernelspec": {
   "display_name": "Python 3",
   "language": "python",
   "name": "python3"
  },
  "language_info": {
   "codemirror_mode": {
    "name": "ipython",
    "version": 3
   },
   "file_extension": ".py",
   "mimetype": "text/x-python",
   "name": "python",
   "nbconvert_exporter": "python",
   "pygments_lexer": "ipython3",
   "version": "3.7.7"
  },
  "nbTranslate": {
   "displayLangs": [
    "*"
   ],
   "hotkey": "alt-t",
   "langInMainMenu": true,
   "sourceLang": "en",
   "targetLang": "fr",
   "useGoogleTranslate": true
  }
 },
 "nbformat": 4,
 "nbformat_minor": 2
}
