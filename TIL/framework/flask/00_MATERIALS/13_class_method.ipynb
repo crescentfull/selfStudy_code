{
 "cells": [
  {
   "cell_type": "markdown",
   "metadata": {},
   "source": [
    "## 3. 클래스 속성과 메서드"
   ]
  },
  {
   "cell_type": "markdown",
   "metadata": {},
   "source": [
    "### 1. 클래스 변수와 인스턴스 변수 (attribute를 한 단계 더 구분해보자)\n",
    "* 클래스 변수: 클래스 정의에서 메서드 밖에 존재하는 변수\n",
    "  - 해당 클래스를 사용하는 모두에게 공용으로 사용되는 변수\n",
    "  - 클래스 변수는 클래스 **내외부**에서 \"클래스명.변수명\" 으로 엑세스 가능\n",
    "* 인스턴스 변수: 클래스 정의에서 메서드 안에서 사용되면서 \"self.변수명\"처럼 사용되는 변수\n",
    "  - 각 객체별로 서로 다른 값을 가짐\n",
    "  - 클래스 내부에서는 self.인스턴스변수명 을 사용하여 엑세스, 클래스 밖에서는 객체명.인스턴스변수명 으로 엑세스"
   ]
  },
  {
   "cell_type": "code",
   "execution_count": 32,
   "metadata": {},
   "outputs": [],
   "source": [
    "class Figure:\n",
    "    count = 0  # 클래스 변수\n",
    " \n",
    "    # 생성자(initializer)\n",
    "    def __init__(self, width, height):\n",
    "        # self.* : 인스턴스변수\n",
    "        self.width = width\n",
    "        self.height = height\n",
    "        # 클래스 변수 접근 예\n",
    "        Figure.count += 1\n",
    "    \n",
    "    def __del__(self):\n",
    "        Figure.count -= 1\n",
    "    \n",
    "    # 메서드\n",
    "    def calc_area(self):\n",
    "        return self.width * self.height"
   ]
  },
  {
   "cell_type": "code",
   "execution_count": 27,
   "metadata": {},
   "outputs": [
    {
     "data": {
      "text/plain": [
       "2"
      ]
     },
     "execution_count": 27,
     "metadata": {},
     "output_type": "execute_result"
    }
   ],
   "source": [
    "figure1 = Figure(2, 3)\n",
    "Figure.count\n",
    "figure2 = Figure(2, 3)\n",
    "Figure.count"
   ]
  },
  {
   "cell_type": "markdown",
   "metadata": {},
   "source": [
    "<div class=\"alert alert-block alert-success\">\n",
    "<strong><font color=\"blue\" size=\"4em\">초간단 연습</font></strong><br>\n",
    "* 다음 코드를 실행시키면서, 출력 값이 왜 이렇게 나왔는지 이해하기(클래스 변수와 인스턴스 변수 이해)\n",
    "</div>"
   ]
  },
  {
   "cell_type": "code",
   "execution_count": 33,
   "metadata": {},
   "outputs": [
    {
     "name": "stdout",
     "output_type": "stream",
     "text": [
      "0\n",
      "1\n",
      "2\n",
      "2\n",
      "4\n",
      "1\n",
      "0\n"
     ]
    }
   ],
   "source": [
    "print(Figure.count)\n",
    "figure1 = Figure(2, 3)\n",
    "print(Figure.count)\n",
    "figure2 = Figure(4, 5)\n",
    "print(Figure.count)\n",
    "print(figure1.width)\n",
    "print(figure2.width)\n",
    "del figure1\n",
    "print(Figure.count)\n",
    "del figure2\n",
    "print(Figure.count)"
   ]
  },
  {
   "cell_type": "markdown",
   "metadata": {},
   "source": [
    "### 2. instance method, static method, class method\n",
    "### **instance method**: 해당 객체 안에서 호출 (지금까지 다룬 self.메서드명을 의미함)\n",
    " - 해당 메서드를 호출한 객체에만 영향을 미침\n",
    " - **객체 속성에 접근 가능**\n",
    "\n",
    "### **static method**: 객체와 독립적이지만, 로직상 클래스내에 포함되는 메서드\n",
    " - self 파라미터를 갖고 있지 않음\n",
    " - **객체 속성에 접근 불가**\n",
    " - <strong><font color='#BF360C'>정적 메서드는 메서드 앞에 @staticmethod 라는 Decorator를 넣어야 함</font></strong>\n",
    " - 클래스명.정적메서드명 또는 객체명.정적메서드명 둘 다 호출 가능"
   ]
  },
  {
   "cell_type": "code",
   "execution_count": 45,
   "metadata": {},
   "outputs": [],
   "source": [
    "class Figure:\n",
    "    # 생성자(initializer)\n",
    "    def __init__(self, width, height):\n",
    "        self.width = width\n",
    "        self.height = height\n",
    "    \n",
    "    # 메서드\n",
    "    def calc_area(self):\n",
    "        Figure.is_square(2, 3)\n",
    "        return self.width * self.height\n",
    "\n",
    "    # 정적 메서드 (Figure 에 너비와 높이가 같은 도형은 정사각형임을 알려주는 기능)\n",
    "    @staticmethod\n",
    "    def is_square(rect_width, rect_height):\n",
    "        if rect_width == rect_height:\n",
    "            print(\"정사각형이 될 수 있는 너비/높이입니다.\")\n",
    "        else:\n",
    "            print(\"정사각형이 될 수 없는 너비/높이입니다.\")"
   ]
  },
  {
   "cell_type": "code",
   "execution_count": 47,
   "metadata": {},
   "outputs": [
    {
     "name": "stdout",
     "output_type": "stream",
     "text": [
      "정사각형이 될 수 있는 너비/높이입니다.\n",
      "정사각형이 될 수 없는 너비/높이입니다.\n"
     ]
    }
   ],
   "source": [
    "figure1 = Figure(2, 3)\n",
    "figure1.is_square(5, 5)         # 객체명.정적메서드명으로 호출 가능\n",
    "Figure.is_square(4, 5)          # 클래스명.정적메서드명으로 호출 가능"
   ]
  },
  {
   "cell_type": "markdown",
   "metadata": {},
   "source": [
    "<div class=\"alert alert-block alert-info\">\n",
    "<strong><font color=\"blue\" size=\"4em\">한발짝 더 나가보기!(심화 문제)</font></strong><br>\n",
    "아래 코드를 실행시키면서 특이 값과 에러를 확인하고, 출력 값이 왜 이렇게 나왔는지 이해하기(정적/인스턴스 메서드 이해)\n",
    "</div>"
   ]
  },
  {
   "cell_type": "code",
   "execution_count": 48,
   "metadata": {},
   "outputs": [],
   "source": [
    "class Figure:\n",
    "    count = 0  # 클래스 변수\n",
    "\n",
    "    # 생성자(initializer)\n",
    "    def __init__(self, width, height):\n",
    "        # self.* : 인스턴스변수\n",
    "        self.width = width\n",
    "        self.height = height\n",
    "        # 클래스 변수 접근 예\n",
    "        Figure.count += 1\n",
    "        \n",
    "    # 정적 메서드 (정적 메서드에서는 클래스 attribute 는 접근 가능)\n",
    "    @staticmethod\n",
    "    def print_count():\n",
    "        print(Figure.count)\n",
    "\n",
    "    # 정적 메서드 (에러: 정적 메서드에서는 객체 attribute 는 접근 불가)\n",
    "    @staticmethod\n",
    "    def print_width():\n",
    "        print(self.width)"
   ]
  },
  {
   "cell_type": "code",
   "execution_count": 49,
   "metadata": {},
   "outputs": [
    {
     "name": "stdout",
     "output_type": "stream",
     "text": [
      "1\n",
      "1\n",
      "None\n"
     ]
    },
    {
     "ename": "NameError",
     "evalue": "name 'self' is not defined",
     "output_type": "error",
     "traceback": [
      "\u001b[0;31m---------------------------------------------------------------------------\u001b[0m",
      "\u001b[0;31mNameError\u001b[0m                                 Traceback (most recent call last)",
      "\u001b[0;32m<ipython-input-49-21f7c2ae98bb>\u001b[0m in \u001b[0;36m<module>\u001b[0;34m\u001b[0m\n\u001b[1;32m      2\u001b[0m \u001b[0mprint\u001b[0m\u001b[0;34m(\u001b[0m\u001b[0mFigure\u001b[0m\u001b[0;34m.\u001b[0m\u001b[0mcount\u001b[0m\u001b[0;34m)\u001b[0m\u001b[0;34m\u001b[0m\u001b[0;34m\u001b[0m\u001b[0m\n\u001b[1;32m      3\u001b[0m \u001b[0mprint\u001b[0m\u001b[0;34m(\u001b[0m\u001b[0mfigure1\u001b[0m\u001b[0;34m.\u001b[0m\u001b[0mprint_count\u001b[0m\u001b[0;34m(\u001b[0m\u001b[0;34m)\u001b[0m\u001b[0;34m)\u001b[0m\u001b[0;34m\u001b[0m\u001b[0;34m\u001b[0m\u001b[0m\n\u001b[0;32m----> 4\u001b[0;31m \u001b[0mprint\u001b[0m\u001b[0;34m(\u001b[0m\u001b[0mfigure1\u001b[0m\u001b[0;34m.\u001b[0m\u001b[0mprint_width\u001b[0m\u001b[0;34m(\u001b[0m\u001b[0;34m)\u001b[0m\u001b[0;34m)\u001b[0m\u001b[0;34m\u001b[0m\u001b[0;34m\u001b[0m\u001b[0m\n\u001b[0m",
      "\u001b[0;32m<ipython-input-48-455732a5813d>\u001b[0m in \u001b[0;36mprint_width\u001b[0;34m()\u001b[0m\n\u001b[1;32m     18\u001b[0m     \u001b[0;34m@\u001b[0m\u001b[0mstaticmethod\u001b[0m\u001b[0;34m\u001b[0m\u001b[0;34m\u001b[0m\u001b[0m\n\u001b[1;32m     19\u001b[0m     \u001b[0;32mdef\u001b[0m \u001b[0mprint_width\u001b[0m\u001b[0;34m(\u001b[0m\u001b[0;34m)\u001b[0m\u001b[0;34m:\u001b[0m\u001b[0;34m\u001b[0m\u001b[0;34m\u001b[0m\u001b[0m\n\u001b[0;32m---> 20\u001b[0;31m         \u001b[0mprint\u001b[0m\u001b[0;34m(\u001b[0m\u001b[0mself\u001b[0m\u001b[0;34m.\u001b[0m\u001b[0mwidth\u001b[0m\u001b[0;34m)\u001b[0m\u001b[0;34m\u001b[0m\u001b[0;34m\u001b[0m\u001b[0m\n\u001b[0m",
      "\u001b[0;31mNameError\u001b[0m: name 'self' is not defined"
     ]
    }
   ],
   "source": [
    "figure1 = Figure(1, 2)\n",
    "print(Figure.count)\n",
    "print(figure1.print_count())\n",
    "print(figure1.print_width())"
   ]
  },
  {
   "cell_type": "markdown",
   "metadata": {},
   "source": [
    "### **class method**: 해당 class 안에서 호출 (해당 클래스로 만들어진 객체에서 호출되지 않고, 직접 클래스 자체에서 호출)\n",
    " - self 파라미터 대신, cls 파라미터를 가짐\n",
    " - **클래스 변수 접근 가능하며 cls.클래스변수명 으로 엑세스 가능** 단, 객체 속성/메서드는 접근 불가\n",
    " - <strong><font color='#BF360C'>클래스 메서드는 메서드 앞에 @classmethod 라는 Decorator를 넣어야 함</font></strong>\n",
    " - 클래스명.클래스메서드명 또는 객체명.클래스메서드명 둘 다 호출 가능"
   ]
  },
  {
   "cell_type": "code",
   "execution_count": 52,
   "metadata": {},
   "outputs": [
    {
     "name": "stdout",
     "output_type": "stream",
     "text": [
      "2\n",
      "2\n",
      "2\n"
     ]
    }
   ],
   "source": [
    "class Figure1:\n",
    "    count = 0  # 클래스 변수\n",
    " \n",
    "    # 생성자(initializer)\n",
    "    def __init__(self, width, height):\n",
    "        # self.* : 인스턴스변수\n",
    "        self.width = width\n",
    "        self.height = height\n",
    "        # 클래스 변수 접근 예\n",
    "        Figure1.count += 1\n",
    "    \n",
    "    # 메서드\n",
    "    def calc_area(self):\n",
    "        return self.width * self.height\n",
    "\n",
    "    # 클래스 메서드\n",
    "    @classmethod\n",
    "    def print_count(cls):\n",
    "        return cls.count\n",
    "\n",
    "figure1 = Figure1(2, 3)\n",
    "figure2 = Figure1(4, 5)\n",
    "print(Figure1.count)\n",
    "print(Figure1.print_count()) # 2\n",
    "print(figure1.print_count()) # 2"
   ]
  },
  {
   "cell_type": "markdown",
   "metadata": {},
   "source": [
    "### static method 와 class method 차이"
   ]
  },
  {
   "cell_type": "code",
   "execution_count": 53,
   "metadata": {},
   "outputs": [
    {
     "name": "stdout",
     "output_type": "stream",
     "text": [
      "figure figure\n",
      "figure circle\n"
     ]
    }
   ],
   "source": [
    "class Figure:\n",
    "    @classmethod\n",
    "    def set_name(cls, name):\n",
    "        cls.name = name\n",
    "\n",
    "class Circle(Figure):\n",
    "   pass\n",
    " \n",
    "Figure.set_name(\"figure\")\n",
    "print (Figure.name, Circle.name)\n",
    "\n",
    "Circle.set_name(\"circle\")\n",
    "print (Figure.name, Circle.name)"
   ]
  },
  {
   "cell_type": "code",
   "execution_count": 54,
   "metadata": {},
   "outputs": [
    {
     "name": "stdout",
     "output_type": "stream",
     "text": [
      "figure figure\n",
      "circle circle\n"
     ]
    }
   ],
   "source": [
    "class Figure:\n",
    "    @staticmethod\n",
    "    def set_name(name):\n",
    "        Figure.name = name\n",
    "\n",
    "class Circle(Figure):\n",
    "   pass\n",
    " \n",
    "Figure.set_name(\"figure\")\n",
    "print (Figure.name, Circle.name)\n",
    "\n",
    "Circle.set_name(\"circle\")\n",
    "print (Figure.name, Circle.name)"
   ]
  }
 ],
 "metadata": {
  "kernelspec": {
   "display_name": "Python 3",
   "language": "python",
   "name": "python3"
  },
  "language_info": {
   "codemirror_mode": {
    "name": "ipython",
    "version": 3
   },
   "file_extension": ".py",
   "mimetype": "text/x-python",
   "name": "python",
   "nbconvert_exporter": "python",
   "pygments_lexer": "ipython3",
   "version": "3.7.7"
  }
 },
 "nbformat": 4,
 "nbformat_minor": 1
}
