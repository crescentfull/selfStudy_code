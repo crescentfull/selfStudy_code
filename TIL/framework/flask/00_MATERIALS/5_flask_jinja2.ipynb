{
 "cells": [
  {
   "cell_type": "markdown",
   "metadata": {},
   "source": [
    "## 5. 웹페이지(HTML)를 파이썬 flask로 만들기"
   ]
  },
  {
   "cell_type": "markdown",
   "metadata": {},
   "source": [
    "### Jinja2 템플릿\n",
    "- 웹페이지에 필요한 부분을 변경할 필요가 있을 때 사용하는 간단한 문법\n",
    "- 웹페이지에서 파이썬 프로그래밍이 가능\n",
    "- 문법이므로 세세한 기능이 있지만, 처음 익힐 때는 핵심에 집중\n",
    "- 다음 두 가지 문법이 핵심\n",
    "\n",
    "```python\n",
    "{{ 변수명 }}\n",
    "\n",
    "{% 파이썬 소스코드 %}\n",
    "```"
   ]
  },
  {
   "cell_type": "markdown",
   "metadata": {},
   "source": [
    "###  Jinja2 템플릿 엔진\n",
    " - jinja2 템플릿 엔진이 해당 HTML 코드를 템플릿으로 만들고, 템플릿 안에 파이썬 코드를 실행하여, 템플릿을 채운 후 최종 HTML 파일 생성"
   ]
  },
  {
   "cell_type": "markdown",
   "metadata": {},
   "source": [
    "### 5.1. 변수 (Jinja2 template 문법)\n",
    "\n",
    "### 폴더 구조\n",
    "\n",
    "```\n",
    "/variable_test.py\n",
    "/templates\n",
    "    /variable.html\n",
    "```"
   ]
  },
  {
   "cell_type": "markdown",
   "metadata": {},
   "source": [
    "### variable_html.py\n",
    "- render_template() 함수에 템플릿 코드에서 사용하는 변수값을 넣어서 보내줘야 함"
   ]
  },
  {
   "cell_type": "code",
   "execution_count": null,
   "metadata": {
    "collapsed": true
   },
   "outputs": [],
   "source": [
    "from flask import Flask, render_template\n",
    "app = Flask(__name__)\n",
    "\n",
    "@app.route('/hello/<user>')\n",
    "def hello_name(user):\n",
    "   return render_template('variable.html', name=user)\n",
    "\n",
    "if __name__ == '__main__':\n",
    "    app.run(host=\"0.0.0.0\", port=\"8080\")"
   ]
  },
  {
   "cell_type": "markdown",
   "metadata": {},
   "source": [
    "### variable.html\n",
    "- 변수값이 씌여질 곳에 다음과 같이 작성함\n",
    "\n",
    "```\n",
    "{{ 변수명 }}\n",
    "```"
   ]
  },
  {
   "cell_type": "markdown",
   "metadata": {
    "collapsed": true
   },
   "source": [
    "```html\n",
    "<!DOCTYPE html>\n",
    "<html lang=\"en\">\n",
    "  <head>\n",
    "    <meta charset=\"UTF-8\" />\n",
    "    <meta name=\"viewport\" content=\"width=device-width, initial-scale=1.0\" />\n",
    "    <title>Document</title>\n",
    "  </head>\n",
    "  <body>\n",
    "    <h1>Hello {{ name }}</h1>\n",
    "  </body>\n",
    "</html>\n",
    "```"
   ]
  },
  {
   "cell_type": "markdown",
   "metadata": {},
   "source": [
    "<div class=\"alert alert-block\" style=\"border: 1px solid #FFB300;background-color:#F9FBE7;\">\n",
    "<font size=\"3em\" style=\"font-weight:bold;color:#3f8dbf;\">실습하기</font><br>\n",
    "http://localhost:8080/hello/dave 로 테스트해보기\n",
    "</div>"
   ]
  },
  {
   "cell_type": "markdown",
   "metadata": {},
   "source": [
    "### 5.2. 반복문 (Jinja2 template 문법)\n",
    "\n",
    "### 폴더 구조\n",
    "\n",
    "```\n",
    "/loop_test.py\n",
    "/templates\n",
    "    /loop.html\n",
    "```"
   ]
  },
  {
   "cell_type": "markdown",
   "metadata": {},
   "source": [
    "### Jinja2 템플릿에서의 반복문 문법\n",
    "- 기본 문법: for 로 선언하고, endfor 로 끝나야 함\n",
    "\n",
    "```\n",
    "{% for %} {% endfor %} \n",
    "```\n",
    "\n",
    "- 예:\n",
    "  - 인덴테이션(들여쓰기)는 안해도 됨   \n",
    "\n",
    "```\n",
    "{% for value in values %}\n",
    "{{ value }}\n",
    "{% endfor %}\n",
    "```"
   ]
  },
  {
   "cell_type": "markdown",
   "metadata": {},
   "source": [
    "### loop_test.py"
   ]
  },
  {
   "cell_type": "code",
   "execution_count": null,
   "metadata": {
    "collapsed": true
   },
   "outputs": [],
   "source": [
    "from flask import Flask, render_template\n",
    "app = Flask(__name__)\n",
    "\n",
    "@app.route('/hello_loop')\n",
    "def hello_name():\n",
    "    value_list = ['list1', 'list2', 'list3']\n",
    "    return render_template('loop.html', values=value_list)\n",
    "\n",
    "if __name__ == '__main__':\n",
    "    app.run(host=\"0.0.0.0\", port=\"8080\")"
   ]
  },
  {
   "cell_type": "markdown",
   "metadata": {},
   "source": [
    "### loop.html"
   ]
  },
  {
   "cell_type": "markdown",
   "metadata": {
    "collapsed": true
   },
   "source": [
    "```html\n",
    "<!DOCTYPE html>\n",
    "<html lang=\"en\">\n",
    "  <head>\n",
    "    <meta charset=\"UTF-8\" />\n",
    "    <meta name=\"viewport\" content=\"width=device-width, initial-scale=1.0\" />\n",
    "    <title>Document</title>\n",
    "  </head>\n",
    "  <body>\n",
    "    <ul>\n",
    "      {% for value in values %}\n",
    "      <li>{{ value }}</li>\n",
    "      {% endfor %}\n",
    "    </ul>\n",
    "  </body>\n",
    "</html>\n",
    "```"
   ]
  },
  {
   "cell_type": "markdown",
   "metadata": {},
   "source": [
    "<div class=\"alert alert-block\" style=\"border: 1px solid #FFB300;background-color:#F9FBE7;\">\n",
    "<font size=\"3em\" style=\"font-weight:bold;color:#3f8dbf;\">실습하기</font><br>\n",
    "http://localhost:8080/hello_loop 로 테스트해보기\n",
    "</div>"
   ]
  },
  {
   "cell_type": "markdown",
   "metadata": {},
   "source": [
    "### 반복문 추가 문법\n",
    "- range() : 파이썬과 동일\n",
    "  - for index in range(len(values)) 는 정상동작하지 않음\n",
    "  \n",
    "- len(values) : values | length 로 작성해야 함\n",
    "- loop.index : 반복문 횟수를 반복문 안에서 가져올 수 있음\n",
    "- value[index] : 파이썬 리스트와 동일\n",
    "\n",
    "\n",
    "\n",
    "```html\n",
    "    <ul>\n",
    "      {% for index in range(values | length) %}\n",
    "      <li>{{ values[index] }} {{ loop.index }}</li>\n",
    "      {% endfor %}\n",
    "    </ul>\n",
    "```"
   ]
  },
  {
   "cell_type": "markdown",
   "metadata": {},
   "source": [
    "### 5.3. 조건문 (Jinja2 template 문법)\n",
    "\n",
    "### 폴더 구조\n",
    "\n",
    "```\n",
    "/condition_test.py\n",
    "/templates\n",
    "    /condition.html\n",
    "```"
   ]
  },
  {
   "cell_type": "markdown",
   "metadata": {},
   "source": [
    "### Jinja2 템플릿에서의 조건문 문법\n",
    "- 기본 문법: if, elif, else, endif 로 구성 가능\n",
    "  - 당연히 elif, else 는 조건에 따라 안써도 됨\n",
    "```\n",
    "{% if %} {% elif %} {% else %} {% endif %} \n",
    "```\n",
    "\n",
    "- 예:\n",
    "  - 인덴테이션(들여쓰기)는 안해도 됨   \n",
    "\n",
    "```\n",
    "    {% if data >= 30 %}\n",
    "    <h3>30보다 큽니다.</h3>\n",
    "    {% elif data > 25 %}\n",
    "    <h3>25보다 큽니다.</h3>\n",
    "    {% else %}\n",
    "    <h3>{{ data }}</h3>\n",
    "    {% endif %}\n",
    "```"
   ]
  },
  {
   "cell_type": "markdown",
   "metadata": {},
   "source": [
    "### condition_test.py"
   ]
  },
  {
   "cell_type": "code",
   "execution_count": null,
   "metadata": {
    "collapsed": true
   },
   "outputs": [],
   "source": [
    "from flask import Flask, render_template\n",
    "app = Flask(__name__)\n",
    "\n",
    "@app.route('/hello_if')\n",
    "def hello_html():\n",
    "    value = 27\n",
    "    return render_template('condition.html', data=value)\n",
    "\n",
    "if __name__ == \"__main__\":\n",
    "    app.run(host=\"0.0.0.0\", port=\"8080\")"
   ]
  },
  {
   "cell_type": "markdown",
   "metadata": {},
   "source": [
    "### condition.html"
   ]
  },
  {
   "cell_type": "markdown",
   "metadata": {
    "collapsed": true
   },
   "source": [
    "```html\n",
    "<!DOCTYPE html>\n",
    "<html lang=\"en\">\n",
    "  <head>\n",
    "    <meta charset=\"UTF-8\" />\n",
    "    <meta name=\"viewport\" content=\"width=device-width, initial-scale=1.0\" />\n",
    "    <title>Document</title>\n",
    "  </head>\n",
    "  <body>\n",
    "    {% if data >= 30 %}\n",
    "    <h3>30보다 큽니다.</h3>\n",
    "    {% elif data > 25 %}\n",
    "    <h3>25보다 큽니다.</h3>\n",
    "    {% else %}\n",
    "    <h3>{{ data }}</h3>\n",
    "    {% endif %}\n",
    "  </body>\n",
    "</html>\n",
    "```"
   ]
  },
  {
   "cell_type": "markdown",
   "metadata": {},
   "source": [
    "<div class=\"alert alert-block\" style=\"border: 1px solid #FFB300;background-color:#F9FBE7;\">\n",
    "<font size=\"3em\" style=\"font-weight:bold;color:#3f8dbf;\">실습하기</font><br>\n",
    "http://localhost:8080/hello_if 로 테스트해보기\n",
    "</div>"
   ]
  },
  {
   "cell_type": "markdown",
   "metadata": {},
   "source": [
    "### 5.4. 주석 (Jinja2 template 문법)\n",
    "- {# #} 으로 주석 표시 가능\n",
    "```\n",
    "{# #} \n",
    "```"
   ]
  },
  {
   "cell_type": "markdown",
   "metadata": {},
   "source": [
    "### condition.html 수정"
   ]
  },
  {
   "cell_type": "markdown",
   "metadata": {
    "collapsed": true
   },
   "source": [
    "```html\n",
    "<!DOCTYPE html>\n",
    "<html lang=\"en\">\n",
    "  <head>\n",
    "    <meta charset=\"UTF-8\" />\n",
    "    <meta name=\"viewport\" content=\"width=device-width, initial-scale=1.0\" />\n",
    "    <title>Document</title>\n",
    "  </head>\n",
    "  <body>\n",
    "    {% if data >= 30 %}\n",
    "    <h3>30보다 큽니다.</h3>\n",
    "    {% elif data > 25 %}\n",
    "    <h3>25보다 큽니다.</h3>\n",
    "    {# \n",
    "    {% else %}\n",
    "    <h3>{{ data }}</h3>\n",
    "    #} \n",
    "    {% endif %}\n",
    "  </body>\n",
    "</html>\n",
    "```"
   ]
  },
  {
   "cell_type": "markdown",
   "metadata": {},
   "source": [
    "<div class=\"alert alert-block\" style=\"border: 1px solid #FFB300;background-color:#F9FBE7;\">\n",
    "<font size=\"3em\" style=\"font-weight:bold;color:#3f8dbf;\">실습하기</font><br>\n",
    "http://localhost:8080/hello_if 로 테스트해보기\n",
    "</div>"
   ]
  },
  {
   "cell_type": "markdown",
   "metadata": {},
   "source": [
    "### 5.5. 흥미있는 테스트: 크롤링 데이터를 그대로 뿌려보면!"
   ]
  },
  {
   "cell_type": "code",
   "execution_count": 2,
   "metadata": {},
   "outputs": [
    {
     "name": "stdout",
     "output_type": "stream",
     "text": [
      " * Serving Flask app \"__main__\" (lazy loading)\n",
      " * Environment: production\n",
      "\u001b[31m   WARNING: This is a development server. Do not use it in a production deployment.\u001b[0m\n",
      "\u001b[2m   Use a production WSGI server instead.\u001b[0m\n",
      " * Debug mode: off\n"
     ]
    },
    {
     "name": "stderr",
     "output_type": "stream",
     "text": [
      " * Running on http://0.0.0.0:8080/ (Press CTRL+C to quit)\n",
      "127.0.0.1 - - [11/Aug/2020 13:49:28] \"\u001b[37mGET /google HTTP/1.1\u001b[0m\" 200 -\n",
      "127.0.0.1 - - [11/Aug/2020 13:49:29] \"\u001b[33mGET /images/branding/googlelogo/1x/googlelogo_white_background_color_272x92dp.png HTTP/1.1\u001b[0m\" 404 -\n",
      "127.0.0.1 - - [11/Aug/2020 13:49:29] \"\u001b[33mGET /textinputassistant/tia.png HTTP/1.1\u001b[0m\" 404 -\n",
      "127.0.0.1 - - [11/Aug/2020 13:49:29] \"\u001b[33mGET /client_204?&atyp=i&biw=1280&bih=601&ei=WCMyX4_mMcWo-Qbci5kw HTTP/1.1\u001b[0m\" 404 -\n",
      "127.0.0.1 - - [11/Aug/2020 13:49:29] \"\u001b[33mGET /images/nav_logo229.png HTTP/1.1\u001b[0m\" 404 -\n",
      "127.0.0.1 - - [11/Aug/2020 13:49:29] \"\u001b[33mGET /xjs/_/js/k=xjs.hp.en.8iDfQQEpWd0.O/m=sb_he,d/am=AJ5gcw/d=1/rs=ACT90oEyS-XCWHQjXp8ZwaF55L7rwkeVoA HTTP/1.1\u001b[0m\" 404 -\n",
      "127.0.0.1 - - [11/Aug/2020 13:49:29] \"\u001b[33mGET /images/nav_logo229.png HTTP/1.1\u001b[0m\" 404 -\n"
     ]
    }
   ],
   "source": [
    "from flask import Flask \n",
    "import requests\n",
    "\n",
    "app = Flask(__name__)   \n",
    "\n",
    "@app.route(\"/google\")\n",
    "def get_google():\n",
    "    response = requests.get(\"http://www.google.co.kr\")\n",
    "    return response.text \n",
    "\n",
    "if __name__ == \"__main__\":\n",
    "    app.run(host=\"0.0.0.0\", port=\"8080\")"
   ]
  },
  {
   "cell_type": "markdown",
   "metadata": {},
   "source": [
    "<div class=\"alert alert-block\" style=\"border: 1px solid #FFB300;background-color:#F9FBE7;\">\n",
    "<font size=\"3em\" style=\"font-weight:bold;color:#3f8dbf;\">실습하기</font><br>\n",
    "http://localhost:8080/google 로 테스트해보기\n",
    "</div>"
   ]
  }
 ],
 "metadata": {
  "kernelspec": {
   "display_name": "Python 3",
   "language": "python",
   "name": "python3"
  },
  "language_info": {
   "codemirror_mode": {
    "name": "ipython",
    "version": 3
   },
   "file_extension": ".py",
   "mimetype": "text/x-python",
   "name": "python",
   "nbconvert_exporter": "python",
   "pygments_lexer": "ipython3",
   "version": "3.7.7"
  },
  "nbTranslate": {
   "displayLangs": [
    "*"
   ],
   "hotkey": "alt-t",
   "langInMainMenu": true,
   "sourceLang": "en",
   "targetLang": "fr",
   "useGoogleTranslate": true
  }
 },
 "nbformat": 4,
 "nbformat_minor": 2
}
